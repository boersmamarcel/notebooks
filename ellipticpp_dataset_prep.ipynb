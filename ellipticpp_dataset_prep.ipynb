{
  "cells": [
    {
      "cell_type": "markdown",
      "metadata": {
        "id": "view-in-github",
        "colab_type": "text"
      },
      "source": [
        "<a href=\"https://colab.research.google.com/github/boersmamarcel/notebooks/blob/main/ellipticpp_dataset_prep.ipynb\" target=\"_parent\"><img src=\"https://colab.research.google.com/assets/colab-badge.svg\" alt=\"Open In Colab\"/></a>"
      ]
    },
    {
      "cell_type": "markdown",
      "metadata": {
        "id": "8oFx7-5gej9D"
      },
      "source": [
        "# Unveiling Bitcoin Network Secrets with the Elliptic++ dataset: From Transactions to Graph Neural Networks\n",
        "Due to the network's inherent pseudonymity and decentralized nature, analyzing Bitcoin transactions can be complex. Understanding the relationships between wallets and transactions is crucial for uncovering potential illicit activities.\n",
        "\n",
        "This tutorial will leverage the Elliptic++ dataset, a rich labeled Bitcoin transaction data source. We will focus on preparing this data for subsequent exploration using a graph neural network model. We'll transform the data into a HeteroData structure, allowing us to explore and analyze the intricate connections within the Bitcoin network with Graph Neural Network in PyTorch Geometric.\n",
        "\n",
        "This tutorial will guide you through the entire data preparation process. By the end, you'll be equipped with the skills to prepare your datasets for evaluation using graph neural network models, enabling you to gain valuable insights into complex networks like the Bitcoin ecosystem. Let's embark on this journey and shed light on the hidden patterns within the Bitcoin network!"
      ]
    },
    {
      "cell_type": "markdown",
      "metadata": {
        "id": "85mj66Bxej9I"
      },
      "source": [
        "# Preparation: download the dataset\n",
        "Please download the files from Google Drive and put them in the folder called *elliptic_bitcoin_dataset*.\n",
        "[Google Drive link](https://drive.google.com/drive/folders/1MRPXz79Lu_JGLlJ21MDfML44dKN9R08l)."
      ]
    },
    {
      "cell_type": "code",
      "source": [
        "from google.colab import drive\n",
        "drive.mount('/content/gdrive')\n"
      ],
      "metadata": {
        "colab": {
          "base_uri": "https://localhost:8080/"
        },
        "id": "pAYApGONqv0g",
        "outputId": "2d7618c7-3626-4762-f491-48e3492032c7"
      },
      "execution_count": null,
      "outputs": [
        {
          "output_type": "stream",
          "name": "stdout",
          "text": [
            "Drive already mounted at /content/gdrive; to attempt to forcibly remount, call drive.mount(\"/content/gdrive\", force_remount=True).\n"
          ]
        }
      ]
    },
    {
      "cell_type": "code",
      "source": [
        "!cp -r '/content/gdrive/My Drive/elliptic_bitcoin_dataset/' './'"
      ],
      "metadata": {
        "id": "AwIYNJeksZr7"
      },
      "execution_count": null,
      "outputs": []
    },
    {
      "cell_type": "markdown",
      "metadata": {
        "id": "G_4m3zItej9J"
      },
      "source": [
        "# Wallet data\n",
        "At the heart of the Bitcoin network lie wallets. These keys are essential for authorizing transactions on the blockchain, ensuring only the rightful owner can spend their holdings. We store feature information collected in the dataset for each wallet. The Elliptic Data Set we're exploring dives deep into these wallets, analyzing their connections within the Bitcoin network. By understanding how wallets interact with each other and with transactions, we can potentially identify illicit activities lurking on the blockchain.\n",
        "\n",
        "We first read the file, which contains all the wallet's features and classes."
      ]
    },
    {
      "cell_type": "code",
      "execution_count": null,
      "metadata": {
        "id": "G6Mf5FX0ej9M",
        "outputId": "c8f2c6c7-13c7-4c54-f5ff-47b8d8f0f275",
        "colab": {
          "base_uri": "https://localhost:8080/",
          "height": 919
        }
      },
      "outputs": [
        {
          "output_type": "execute_result",
          "data": {
            "text/plain": [
              "shape: (1_268_260, 58)\n",
              "┌────────────┬───────────┬───────┬────────────┬───┬────────────┬───────────┬───────────┬───────────┐\n",
              "│ address    ┆ Time step ┆ class ┆ num_txs_as ┆ … ┆ transacted ┆ transacte ┆ transacte ┆ transacte │\n",
              "│ ---        ┆ ---       ┆ ---   ┆ _sender    ┆   ┆ _w_address ┆ d_w_addre ┆ d_w_addre ┆ d_w_addre │\n",
              "│ str        ┆ i64       ┆ i64   ┆ ---        ┆   ┆ _min       ┆ ss_max    ┆ ss_mean   ┆ ss_median │\n",
              "│            ┆           ┆       ┆ f64        ┆   ┆ ---        ┆ ---       ┆ ---       ┆ ---       │\n",
              "│            ┆           ┆       ┆            ┆   ┆ f64        ┆ f64       ┆ f64       ┆ f64       │\n",
              "╞════════════╪═══════════╪═══════╪════════════╪═══╪════════════╪═══════════╪═══════════╪═══════════╡\n",
              "│ 111112TykS ┆ 25        ┆ 2     ┆ 0.0        ┆ … ┆ 1.0        ┆ 1.0       ┆ 1.0       ┆ 1.0       │\n",
              "│ w72ztDN2WJ ┆           ┆       ┆            ┆   ┆            ┆           ┆           ┆           │\n",
              "│ ger4cynzWY ┆           ┆       ┆            ┆   ┆            ┆           ┆           ┆           │\n",
              "│ C5…        ┆           ┆       ┆            ┆   ┆            ┆           ┆           ┆           │\n",
              "│ 1111DAYXho ┆ 25        ┆ 3     ┆ 0.0        ┆ … ┆ 1.0        ┆ 1.0       ┆ 1.0       ┆ 1.0       │\n",
              "│ xZx2tsRnzi ┆           ┆       ┆            ┆   ┆            ┆           ┆           ┆           │\n",
              "│ mfozo783x1 ┆           ┆       ┆            ┆   ┆            ┆           ┆           ┆           │\n",
              "│ yC…        ┆           ┆       ┆            ┆   ┆            ┆           ┆           ┆           │\n",
              "│ 1111DAYXho ┆ 29        ┆ 3     ┆ 0.0        ┆ … ┆ 1.0        ┆ 1.0       ┆ 1.0       ┆ 1.0       │\n",
              "│ xZx2tsRnzi ┆           ┆       ┆            ┆   ┆            ┆           ┆           ┆           │\n",
              "│ mfozo783x1 ┆           ┆       ┆            ┆   ┆            ┆           ┆           ┆           │\n",
              "│ yC…        ┆           ┆       ┆            ┆   ┆            ┆           ┆           ┆           │\n",
              "│ 1111DAYXho ┆ 39        ┆ 3     ┆ 0.0        ┆ … ┆ 1.0        ┆ 1.0       ┆ 1.0       ┆ 1.0       │\n",
              "│ xZx2tsRnzi ┆           ┆       ┆            ┆   ┆            ┆           ┆           ┆           │\n",
              "│ mfozo783x1 ┆           ┆       ┆            ┆   ┆            ┆           ┆           ┆           │\n",
              "│ yC…        ┆           ┆       ┆            ┆   ┆            ┆           ┆           ┆           │\n",
              "│ …          ┆ …         ┆ …     ┆ …          ┆ … ┆ …          ┆ …         ┆ …         ┆ …         │\n",
              "│ 3R2VBFbqHG ┆ 44        ┆ 3     ┆ 0.0        ┆ … ┆ 1.0        ┆ 1.0       ┆ 1.0       ┆ 1.0       │\n",
              "│ C4bQ7b4ixN ┆           ┆       ┆            ┆   ┆            ┆           ┆           ┆           │\n",
              "│ 4jZTdv7RMb ┆           ┆       ┆            ┆   ┆            ┆           ┆           ┆           │\n",
              "│ EY…        ┆           ┆       ┆            ┆   ┆            ┆           ┆           ┆           │\n",
              "│ 3R2WFmRwbD ┆ 9         ┆ 3     ┆ 0.0        ┆ … ┆ 1.0        ┆ 1.0       ┆ 1.0       ┆ 1.0       │\n",
              "│ eo3rMVVu5J ┆           ┆       ┆            ┆   ┆            ┆           ┆           ┆           │\n",
              "│ 3jjMxAuQYY ┆           ┆       ┆            ┆   ┆            ┆           ┆           ┆           │\n",
              "│ WA…        ┆           ┆       ┆            ┆   ┆            ┆           ┆           ┆           │\n",
              "│ 3R2WTZGYLm ┆ 3         ┆ 3     ┆ 0.0        ┆ … ┆ 1.0        ┆ 1.0       ┆ 1.0       ┆ 1.0       │\n",
              "│ bJQyoDSBft ┆           ┆       ┆            ┆   ┆            ┆           ┆           ┆           │\n",
              "│ JsPRvF1mSE ┆           ┆       ┆            ┆   ┆            ┆           ┆           ┆           │\n",
              "│ tk…        ┆           ┆       ┆            ┆   ┆            ┆           ┆           ┆           │\n",
              "│ 3R2bm6iqbz ┆ 9         ┆ 3     ┆ 1.0        ┆ … ┆ 1.0        ┆ 1.0       ┆ 1.0       ┆ 1.0       │\n",
              "│ cVpEeFCSFa ┆           ┆       ┆            ┆   ┆            ┆           ┆           ┆           │\n",
              "│ rS56b56Qfj ┆           ┆       ┆            ┆   ┆            ┆           ┆           ┆           │\n",
              "│ yi…        ┆           ┆       ┆            ┆   ┆            ┆           ┆           ┆           │\n",
              "└────────────┴───────────┴───────┴────────────┴───┴────────────┴───────────┴───────────┴───────────┘"
            ],
            "text/html": [
              "<div><style>\n",
              ".dataframe > thead > tr,\n",
              ".dataframe > tbody > tr {\n",
              "  text-align: right;\n",
              "  white-space: pre-wrap;\n",
              "}\n",
              "</style>\n",
              "<small>shape: (1_268_260, 58)</small><table border=\"1\" class=\"dataframe\"><thead><tr><th>address</th><th>Time step</th><th>class</th><th>num_txs_as_sender</th><th>num_txs_as receiver</th><th>first_block_appeared_in</th><th>last_block_appeared_in</th><th>lifetime_in_blocks</th><th>total_txs</th><th>first_sent_block</th><th>first_received_block</th><th>num_timesteps_appeared_in</th><th>btc_transacted_total</th><th>btc_transacted_min</th><th>btc_transacted_max</th><th>btc_transacted_mean</th><th>btc_transacted_median</th><th>btc_sent_total</th><th>btc_sent_min</th><th>btc_sent_max</th><th>btc_sent_mean</th><th>btc_sent_median</th><th>btc_received_total</th><th>btc_received_min</th><th>btc_received_max</th><th>btc_received_mean</th><th>btc_received_median</th><th>fees_total</th><th>fees_min</th><th>fees_max</th><th>fees_mean</th><th>fees_median</th><th>fees_as_share_total</th><th>fees_as_share_min</th><th>fees_as_share_max</th><th>fees_as_share_mean</th><th>fees_as_share_median</th><th>blocks_btwn_txs_total</th><th>blocks_btwn_txs_min</th><th>blocks_btwn_txs_max</th><th>blocks_btwn_txs_mean</th><th>blocks_btwn_txs_median</th><th>blocks_btwn_input_txs_total</th><th>blocks_btwn_input_txs_min</th><th>blocks_btwn_input_txs_max</th><th>blocks_btwn_input_txs_mean</th><th>blocks_btwn_input_txs_median</th><th>blocks_btwn_output_txs_total</th><th>blocks_btwn_output_txs_min</th><th>blocks_btwn_output_txs_max</th><th>blocks_btwn_output_txs_mean</th><th>blocks_btwn_output_txs_median</th><th>num_addr_transacted_multiple</th><th>transacted_w_address_total</th><th>transacted_w_address_min</th><th>transacted_w_address_max</th><th>transacted_w_address_mean</th><th>transacted_w_address_median</th></tr><tr><td>str</td><td>i64</td><td>i64</td><td>f64</td><td>f64</td><td>f64</td><td>f64</td><td>f64</td><td>f64</td><td>f64</td><td>f64</td><td>f64</td><td>f64</td><td>f64</td><td>f64</td><td>f64</td><td>f64</td><td>f64</td><td>f64</td><td>f64</td><td>f64</td><td>f64</td><td>f64</td><td>f64</td><td>f64</td><td>f64</td><td>f64</td><td>f64</td><td>f64</td><td>f64</td><td>f64</td><td>f64</td><td>f64</td><td>f64</td><td>f64</td><td>f64</td><td>f64</td><td>f64</td><td>f64</td><td>f64</td><td>f64</td><td>f64</td><td>f64</td><td>f64</td><td>f64</td><td>f64</td><td>f64</td><td>f64</td><td>f64</td><td>f64</td><td>f64</td><td>f64</td><td>f64</td><td>f64</td><td>f64</td><td>f64</td><td>f64</td><td>f64</td></tr></thead><tbody><tr><td>&quot;111112TykSw72z…</td><td>25</td><td>2</td><td>0.0</td><td>1.0</td><td>439586.0</td><td>439586.0</td><td>0.0</td><td>1.0</td><td>0.0</td><td>439586.0</td><td>1.0</td><td>0.0106281</td><td>0.0106281</td><td>0.0106281</td><td>0.0106281</td><td>0.0106281</td><td>0.0</td><td>0.0</td><td>0.0</td><td>0.0</td><td>0.0</td><td>0.0106281</td><td>0.0106281</td><td>0.0106281</td><td>0.0106281</td><td>0.0106281</td><td>0.007042</td><td>0.007042</td><td>0.007042</td><td>0.007042</td><td>0.007042</td><td>0.000012</td><td>0.000012</td><td>0.000012</td><td>0.000012</td><td>0.000012</td><td>0.0</td><td>0.0</td><td>0.0</td><td>0.0</td><td>0.0</td><td>0.0</td><td>0.0</td><td>0.0</td><td>0.0</td><td>0.0</td><td>0.0</td><td>0.0</td><td>0.0</td><td>0.0</td><td>0.0</td><td>0.0</td><td>24.0</td><td>1.0</td><td>1.0</td><td>1.0</td><td>1.0</td></tr><tr><td>&quot;1111DAYXhoxZx2…</td><td>25</td><td>3</td><td>0.0</td><td>8.0</td><td>439589.0</td><td>485959.0</td><td>46370.0</td><td>8.0</td><td>0.0</td><td>439589.0</td><td>6.0</td><td>0.273046</td><td>0.0039</td><td>0.133777</td><td>0.034131</td><td>0.014352</td><td>0.0</td><td>0.0</td><td>0.0</td><td>0.0</td><td>0.0</td><td>0.273046</td><td>0.0039</td><td>0.133777</td><td>0.034131</td><td>0.014352</td><td>0.002371</td><td>0.000122</td><td>0.00058</td><td>0.000296</td><td>0.000242</td><td>0.002217</td><td>0.000121</td><td>0.000523</td><td>0.000277</td><td>0.000237</td><td>46370.0</td><td>0.0</td><td>20164.0</td><td>6624.285714</td><td>8060.0</td><td>0.0</td><td>0.0</td><td>0.0</td><td>0.0</td><td>0.0</td><td>46370.0</td><td>0.0</td><td>20164.0</td><td>6624.285714</td><td>8060.0</td><td>0.0</td><td>8.0</td><td>1.0</td><td>1.0</td><td>1.0</td><td>1.0</td></tr><tr><td>&quot;1111DAYXhoxZx2…</td><td>29</td><td>3</td><td>0.0</td><td>8.0</td><td>439589.0</td><td>485959.0</td><td>46370.0</td><td>8.0</td><td>0.0</td><td>439589.0</td><td>6.0</td><td>0.273046</td><td>0.0039</td><td>0.133777</td><td>0.034131</td><td>0.014352</td><td>0.0</td><td>0.0</td><td>0.0</td><td>0.0</td><td>0.0</td><td>0.273046</td><td>0.0039</td><td>0.133777</td><td>0.034131</td><td>0.014352</td><td>0.002371</td><td>0.000122</td><td>0.00058</td><td>0.000296</td><td>0.000242</td><td>0.002217</td><td>0.000121</td><td>0.000523</td><td>0.000277</td><td>0.000237</td><td>46370.0</td><td>0.0</td><td>20164.0</td><td>6624.285714</td><td>8060.0</td><td>0.0</td><td>0.0</td><td>0.0</td><td>0.0</td><td>0.0</td><td>46370.0</td><td>0.0</td><td>20164.0</td><td>6624.285714</td><td>8060.0</td><td>0.0</td><td>8.0</td><td>1.0</td><td>1.0</td><td>1.0</td><td>1.0</td></tr><tr><td>&quot;1111DAYXhoxZx2…</td><td>39</td><td>3</td><td>0.0</td><td>8.0</td><td>439589.0</td><td>485959.0</td><td>46370.0</td><td>8.0</td><td>0.0</td><td>439589.0</td><td>6.0</td><td>0.273046</td><td>0.0039</td><td>0.133777</td><td>0.034131</td><td>0.014352</td><td>0.0</td><td>0.0</td><td>0.0</td><td>0.0</td><td>0.0</td><td>0.273046</td><td>0.0039</td><td>0.133777</td><td>0.034131</td><td>0.014352</td><td>0.002371</td><td>0.000122</td><td>0.00058</td><td>0.000296</td><td>0.000242</td><td>0.002217</td><td>0.000121</td><td>0.000523</td><td>0.000277</td><td>0.000237</td><td>46370.0</td><td>0.0</td><td>20164.0</td><td>6624.285714</td><td>8060.0</td><td>0.0</td><td>0.0</td><td>0.0</td><td>0.0</td><td>0.0</td><td>46370.0</td><td>0.0</td><td>20164.0</td><td>6624.285714</td><td>8060.0</td><td>0.0</td><td>8.0</td><td>1.0</td><td>1.0</td><td>1.0</td><td>1.0</td></tr><tr><td>&quot;1111DAYXhoxZx2…</td><td>39</td><td>3</td><td>0.0</td><td>8.0</td><td>439589.0</td><td>485959.0</td><td>46370.0</td><td>8.0</td><td>0.0</td><td>439589.0</td><td>6.0</td><td>0.273046</td><td>0.0039</td><td>0.133777</td><td>0.034131</td><td>0.014352</td><td>0.0</td><td>0.0</td><td>0.0</td><td>0.0</td><td>0.0</td><td>0.273046</td><td>0.0039</td><td>0.133777</td><td>0.034131</td><td>0.014352</td><td>0.002371</td><td>0.000122</td><td>0.00058</td><td>0.000296</td><td>0.000242</td><td>0.002217</td><td>0.000121</td><td>0.000523</td><td>0.000277</td><td>0.000237</td><td>46370.0</td><td>0.0</td><td>20164.0</td><td>6624.285714</td><td>8060.0</td><td>0.0</td><td>0.0</td><td>0.0</td><td>0.0</td><td>0.0</td><td>46370.0</td><td>0.0</td><td>20164.0</td><td>6624.285714</td><td>8060.0</td><td>0.0</td><td>8.0</td><td>1.0</td><td>1.0</td><td>1.0</td><td>1.0</td></tr><tr><td>&quot;1111DAYXhoxZx2…</td><td>43</td><td>3</td><td>0.0</td><td>8.0</td><td>439589.0</td><td>485959.0</td><td>46370.0</td><td>8.0</td><td>0.0</td><td>439589.0</td><td>6.0</td><td>0.273046</td><td>0.0039</td><td>0.133777</td><td>0.034131</td><td>0.014352</td><td>0.0</td><td>0.0</td><td>0.0</td><td>0.0</td><td>0.0</td><td>0.273046</td><td>0.0039</td><td>0.133777</td><td>0.034131</td><td>0.014352</td><td>0.002371</td><td>0.000122</td><td>0.00058</td><td>0.000296</td><td>0.000242</td><td>0.002217</td><td>0.000121</td><td>0.000523</td><td>0.000277</td><td>0.000237</td><td>46370.0</td><td>0.0</td><td>20164.0</td><td>6624.285714</td><td>8060.0</td><td>0.0</td><td>0.0</td><td>0.0</td><td>0.0</td><td>0.0</td><td>46370.0</td><td>0.0</td><td>20164.0</td><td>6624.285714</td><td>8060.0</td><td>0.0</td><td>8.0</td><td>1.0</td><td>1.0</td><td>1.0</td><td>1.0</td></tr><tr><td>&quot;1111DAYXhoxZx2…</td><td>43</td><td>3</td><td>0.0</td><td>8.0</td><td>439589.0</td><td>485959.0</td><td>46370.0</td><td>8.0</td><td>0.0</td><td>439589.0</td><td>6.0</td><td>0.273046</td><td>0.0039</td><td>0.133777</td><td>0.034131</td><td>0.014352</td><td>0.0</td><td>0.0</td><td>0.0</td><td>0.0</td><td>0.0</td><td>0.273046</td><td>0.0039</td><td>0.133777</td><td>0.034131</td><td>0.014352</td><td>0.002371</td><td>0.000122</td><td>0.00058</td><td>0.000296</td><td>0.000242</td><td>0.002217</td><td>0.000121</td><td>0.000523</td><td>0.000277</td><td>0.000237</td><td>46370.0</td><td>0.0</td><td>20164.0</td><td>6624.285714</td><td>8060.0</td><td>0.0</td><td>0.0</td><td>0.0</td><td>0.0</td><td>0.0</td><td>46370.0</td><td>0.0</td><td>20164.0</td><td>6624.285714</td><td>8060.0</td><td>0.0</td><td>8.0</td><td>1.0</td><td>1.0</td><td>1.0</td><td>1.0</td></tr><tr><td>&quot;1111DAYXhoxZx2…</td><td>47</td><td>3</td><td>0.0</td><td>8.0</td><td>439589.0</td><td>485959.0</td><td>46370.0</td><td>8.0</td><td>0.0</td><td>439589.0</td><td>6.0</td><td>0.273046</td><td>0.0039</td><td>0.133777</td><td>0.034131</td><td>0.014352</td><td>0.0</td><td>0.0</td><td>0.0</td><td>0.0</td><td>0.0</td><td>0.273046</td><td>0.0039</td><td>0.133777</td><td>0.034131</td><td>0.014352</td><td>0.002371</td><td>0.000122</td><td>0.00058</td><td>0.000296</td><td>0.000242</td><td>0.002217</td><td>0.000121</td><td>0.000523</td><td>0.000277</td><td>0.000237</td><td>46370.0</td><td>0.0</td><td>20164.0</td><td>6624.285714</td><td>8060.0</td><td>0.0</td><td>0.0</td><td>0.0</td><td>0.0</td><td>0.0</td><td>46370.0</td><td>0.0</td><td>20164.0</td><td>6624.285714</td><td>8060.0</td><td>0.0</td><td>8.0</td><td>1.0</td><td>1.0</td><td>1.0</td><td>1.0</td></tr><tr><td>&quot;1111DAYXhoxZx2…</td><td>48</td><td>3</td><td>0.0</td><td>8.0</td><td>439589.0</td><td>485959.0</td><td>46370.0</td><td>8.0</td><td>0.0</td><td>439589.0</td><td>6.0</td><td>0.273046</td><td>0.0039</td><td>0.133777</td><td>0.034131</td><td>0.014352</td><td>0.0</td><td>0.0</td><td>0.0</td><td>0.0</td><td>0.0</td><td>0.273046</td><td>0.0039</td><td>0.133777</td><td>0.034131</td><td>0.014352</td><td>0.002371</td><td>0.000122</td><td>0.00058</td><td>0.000296</td><td>0.000242</td><td>0.002217</td><td>0.000121</td><td>0.000523</td><td>0.000277</td><td>0.000237</td><td>46370.0</td><td>0.0</td><td>20164.0</td><td>6624.285714</td><td>8060.0</td><td>0.0</td><td>0.0</td><td>0.0</td><td>0.0</td><td>0.0</td><td>46370.0</td><td>0.0</td><td>20164.0</td><td>6624.285714</td><td>8060.0</td><td>0.0</td><td>8.0</td><td>1.0</td><td>1.0</td><td>1.0</td><td>1.0</td></tr><tr><td>&quot;1111VHuXEzHaRC…</td><td>21</td><td>2</td><td>0.0</td><td>1.0</td><td>431522.0</td><td>431522.0</td><td>0.0</td><td>1.0</td><td>0.0</td><td>431522.0</td><td>1.0</td><td>0.000104</td><td>0.000104</td><td>0.000104</td><td>0.000104</td><td>0.000104</td><td>0.0</td><td>0.0</td><td>0.0</td><td>0.0</td><td>0.0</td><td>0.000104</td><td>0.000104</td><td>0.000104</td><td>0.000104</td><td>0.000104</td><td>0.0276</td><td>0.0276</td><td>0.0276</td><td>0.0276</td><td>0.0276</td><td>0.000001</td><td>0.000001</td><td>0.000001</td><td>0.000001</td><td>0.000001</td><td>0.0</td><td>0.0</td><td>0.0</td><td>0.0</td><td>0.0</td><td>0.0</td><td>0.0</td><td>0.0</td><td>0.0</td><td>0.0</td><td>0.0</td><td>0.0</td><td>0.0</td><td>0.0</td><td>0.0</td><td>0.0</td><td>1.0</td><td>1.0</td><td>1.0</td><td>1.0</td><td>1.0</td></tr><tr><td>&quot;111218KKkh1JJF…</td><td>17</td><td>3</td><td>1.0</td><td>1.0</td><td>423456.0</td><td>423456.0</td><td>0.0</td><td>2.0</td><td>423456.0</td><td>423456.0</td><td>1.0</td><td>0.024996</td><td>0.012498</td><td>0.012498</td><td>0.012498</td><td>0.012498</td><td>0.012498</td><td>0.0</td><td>0.012498</td><td>0.006249</td><td>0.006249</td><td>0.012498</td><td>0.0</td><td>0.012498</td><td>0.006249</td><td>0.006249</td><td>0.000422</td><td>0.000176</td><td>0.000246</td><td>0.000211</td><td>0.000211</td><td>0.000065</td><td>0.00001</td><td>0.000054</td><td>0.000032</td><td>0.000032</td><td>0.0</td><td>0.0</td><td>0.0</td><td>0.0</td><td>0.0</td><td>0.0</td><td>0.0</td><td>0.0</td><td>0.0</td><td>0.0</td><td>0.0</td><td>0.0</td><td>0.0</td><td>0.0</td><td>0.0</td><td>0.0</td><td>4.0</td><td>1.0</td><td>1.0</td><td>1.0</td><td>1.0</td></tr><tr><td>&quot;111218KKkh1JJF…</td><td>17</td><td>3</td><td>1.0</td><td>1.0</td><td>423456.0</td><td>423456.0</td><td>0.0</td><td>2.0</td><td>423456.0</td><td>423456.0</td><td>1.0</td><td>0.024996</td><td>0.012498</td><td>0.012498</td><td>0.012498</td><td>0.012498</td><td>0.012498</td><td>0.0</td><td>0.012498</td><td>0.006249</td><td>0.006249</td><td>0.012498</td><td>0.0</td><td>0.012498</td><td>0.006249</td><td>0.006249</td><td>0.000422</td><td>0.000176</td><td>0.000246</td><td>0.000211</td><td>0.000211</td><td>0.000065</td><td>0.00001</td><td>0.000054</td><td>0.000032</td><td>0.000032</td><td>0.0</td><td>0.0</td><td>0.0</td><td>0.0</td><td>0.0</td><td>0.0</td><td>0.0</td><td>0.0</td><td>0.0</td><td>0.0</td><td>0.0</td><td>0.0</td><td>0.0</td><td>0.0</td><td>0.0</td><td>0.0</td><td>4.0</td><td>1.0</td><td>1.0</td><td>1.0</td><td>1.0</td></tr><tr><td>&hellip;</td><td>&hellip;</td><td>&hellip;</td><td>&hellip;</td><td>&hellip;</td><td>&hellip;</td><td>&hellip;</td><td>&hellip;</td><td>&hellip;</td><td>&hellip;</td><td>&hellip;</td><td>&hellip;</td><td>&hellip;</td><td>&hellip;</td><td>&hellip;</td><td>&hellip;</td><td>&hellip;</td><td>&hellip;</td><td>&hellip;</td><td>&hellip;</td><td>&hellip;</td><td>&hellip;</td><td>&hellip;</td><td>&hellip;</td><td>&hellip;</td><td>&hellip;</td><td>&hellip;</td><td>&hellip;</td><td>&hellip;</td><td>&hellip;</td><td>&hellip;</td><td>&hellip;</td><td>&hellip;</td><td>&hellip;</td><td>&hellip;</td><td>&hellip;</td><td>&hellip;</td><td>&hellip;</td><td>&hellip;</td><td>&hellip;</td><td>&hellip;</td><td>&hellip;</td><td>&hellip;</td><td>&hellip;</td><td>&hellip;</td><td>&hellip;</td><td>&hellip;</td><td>&hellip;</td><td>&hellip;</td><td>&hellip;</td><td>&hellip;</td><td>&hellip;</td><td>&hellip;</td><td>&hellip;</td><td>&hellip;</td><td>&hellip;</td><td>&hellip;</td><td>&hellip;</td></tr><tr><td>&quot;3R2PkovCpT6ZkV…</td><td>35</td><td>3</td><td>1.0</td><td>0.0</td><td>459748.0</td><td>459748.0</td><td>0.0</td><td>1.0</td><td>459748.0</td><td>0.0</td><td>1.0</td><td>0.012486</td><td>0.012486</td><td>0.012486</td><td>0.012486</td><td>0.012486</td><td>0.012486</td><td>0.012486</td><td>0.012486</td><td>0.012486</td><td>0.012486</td><td>0.0</td><td>0.0</td><td>0.0</td><td>0.0</td><td>0.0</td><td>0.000626</td><td>0.000626</td><td>0.000626</td><td>0.000626</td><td>0.000626</td><td>0.000626</td><td>0.000626</td><td>0.000626</td><td>0.000626</td><td>0.000626</td><td>0.0</td><td>0.0</td><td>0.0</td><td>0.0</td><td>0.0</td><td>0.0</td><td>0.0</td><td>0.0</td><td>0.0</td><td>0.0</td><td>0.0</td><td>0.0</td><td>0.0</td><td>0.0</td><td>0.0</td><td>0.0</td><td>2.0</td><td>1.0</td><td>1.0</td><td>1.0</td><td>1.0</td></tr><tr><td>&quot;3R2PxJKMfoSJoM…</td><td>12</td><td>3</td><td>0.0</td><td>1.0</td><td>413378.0</td><td>413378.0</td><td>0.0</td><td>1.0</td><td>0.0</td><td>413378.0</td><td>1.0</td><td>0.003189</td><td>0.003189</td><td>0.003189</td><td>0.003189</td><td>0.003189</td><td>0.0</td><td>0.0</td><td>0.0</td><td>0.0</td><td>0.0</td><td>0.003189</td><td>0.003189</td><td>0.003189</td><td>0.003189</td><td>0.003189</td><td>0.021754</td><td>0.021754</td><td>0.021754</td><td>0.021754</td><td>0.021754</td><td>0.000002</td><td>0.000002</td><td>0.000002</td><td>0.000002</td><td>0.000002</td><td>0.0</td><td>0.0</td><td>0.0</td><td>0.0</td><td>0.0</td><td>0.0</td><td>0.0</td><td>0.0</td><td>0.0</td><td>0.0</td><td>0.0</td><td>0.0</td><td>0.0</td><td>0.0</td><td>0.0</td><td>0.0</td><td>1.0</td><td>1.0</td><td>1.0</td><td>1.0</td><td>1.0</td></tr><tr><td>&quot;3R2ReBtyqaFnEa…</td><td>32</td><td>3</td><td>0.0</td><td>1.0</td><td>453697.0</td><td>453697.0</td><td>0.0</td><td>1.0</td><td>0.0</td><td>453697.0</td><td>1.0</td><td>0.12006</td><td>0.12006</td><td>0.12006</td><td>0.12006</td><td>0.12006</td><td>0.0</td><td>0.0</td><td>0.0</td><td>0.0</td><td>0.0</td><td>0.12006</td><td>0.12006</td><td>0.12006</td><td>0.12006</td><td>0.12006</td><td>0.00091</td><td>0.00091</td><td>0.00091</td><td>0.00091</td><td>0.00091</td><td>0.000834</td><td>0.000834</td><td>0.000834</td><td>0.000834</td><td>0.000834</td><td>0.0</td><td>0.0</td><td>0.0</td><td>0.0</td><td>0.0</td><td>0.0</td><td>0.0</td><td>0.0</td><td>0.0</td><td>0.0</td><td>0.0</td><td>0.0</td><td>0.0</td><td>0.0</td><td>0.0</td><td>0.0</td><td>5.0</td><td>1.0</td><td>1.0</td><td>1.0</td><td>1.0</td></tr><tr><td>&quot;3R2SZEK2UggNm1…</td><td>16</td><td>2</td><td>0.0</td><td>1.0</td><td>421443.0</td><td>421443.0</td><td>0.0</td><td>1.0</td><td>0.0</td><td>421443.0</td><td>1.0</td><td>0.0046</td><td>0.0046</td><td>0.0046</td><td>0.0046</td><td>0.0046</td><td>0.0</td><td>0.0</td><td>0.0</td><td>0.0</td><td>0.0</td><td>0.0046</td><td>0.0046</td><td>0.0046</td><td>0.0046</td><td>0.0046</td><td>0.001648</td><td>0.001648</td><td>0.001648</td><td>0.001648</td><td>0.001648</td><td>0.000005</td><td>0.000005</td><td>0.000005</td><td>0.000005</td><td>0.000005</td><td>0.0</td><td>0.0</td><td>0.0</td><td>0.0</td><td>0.0</td><td>0.0</td><td>0.0</td><td>0.0</td><td>0.0</td><td>0.0</td><td>0.0</td><td>0.0</td><td>0.0</td><td>0.0</td><td>0.0</td><td>0.0</td><td>9.0</td><td>1.0</td><td>1.0</td><td>1.0</td><td>1.0</td></tr><tr><td>&quot;3R2TfX1PDN93SH…</td><td>24</td><td>2</td><td>0.0</td><td>1.0</td><td>437572.0</td><td>437572.0</td><td>0.0</td><td>1.0</td><td>0.0</td><td>437572.0</td><td>1.0</td><td>0.031884</td><td>0.031884</td><td>0.031884</td><td>0.031884</td><td>0.031884</td><td>0.0</td><td>0.0</td><td>0.0</td><td>0.0</td><td>0.0</td><td>0.031884</td><td>0.031884</td><td>0.031884</td><td>0.031884</td><td>0.031884</td><td>0.001752</td><td>0.001752</td><td>0.001752</td><td>0.001752</td><td>0.001752</td><td>0.000589</td><td>0.000589</td><td>0.000589</td><td>0.000589</td><td>0.000589</td><td>0.0</td><td>0.0</td><td>0.0</td><td>0.0</td><td>0.0</td><td>0.0</td><td>0.0</td><td>0.0</td><td>0.0</td><td>0.0</td><td>0.0</td><td>0.0</td><td>0.0</td><td>0.0</td><td>0.0</td><td>0.0</td><td>11.0</td><td>1.0</td><td>1.0</td><td>1.0</td><td>1.0</td></tr><tr><td>&quot;3R2URFhybtzYck…</td><td>32</td><td>2</td><td>0.0</td><td>1.0</td><td>453697.0</td><td>453697.0</td><td>0.0</td><td>1.0</td><td>0.0</td><td>453697.0</td><td>1.0</td><td>0.002173</td><td>0.002173</td><td>0.002173</td><td>0.002173</td><td>0.002173</td><td>0.0</td><td>0.0</td><td>0.0</td><td>0.0</td><td>0.0</td><td>0.002173</td><td>0.002173</td><td>0.002173</td><td>0.002173</td><td>0.002173</td><td>0.001063</td><td>0.001063</td><td>0.001063</td><td>0.001063</td><td>0.001063</td><td>0.000005</td><td>0.000005</td><td>0.000005</td><td>0.000005</td><td>0.000005</td><td>0.0</td><td>0.0</td><td>0.0</td><td>0.0</td><td>0.0</td><td>0.0</td><td>0.0</td><td>0.0</td><td>0.0</td><td>0.0</td><td>0.0</td><td>0.0</td><td>0.0</td><td>0.0</td><td>0.0</td><td>0.0</td><td>4.0</td><td>1.0</td><td>1.0</td><td>1.0</td><td>1.0</td></tr><tr><td>&quot;3R2Uw5MRdSSigp…</td><td>31</td><td>3</td><td>1.0</td><td>1.0</td><td>451684.0</td><td>451685.0</td><td>1.0</td><td>2.0</td><td>451685.0</td><td>451684.0</td><td>1.0</td><td>1.5856196</td><td>0.7928098</td><td>0.7928098</td><td>0.7928098</td><td>0.7928098</td><td>0.7928098</td><td>0.0</td><td>0.7928098</td><td>0.3964049</td><td>0.3964049</td><td>0.7928098</td><td>0.0</td><td>0.7928098</td><td>0.3964049</td><td>0.3964049</td><td>0.000673</td><td>0.00032</td><td>0.000352</td><td>0.000336</td><td>0.000336</td><td>0.000672</td><td>0.00032</td><td>0.000352</td><td>0.000336</td><td>0.000336</td><td>1.0</td><td>1.0</td><td>1.0</td><td>1.0</td><td>1.0</td><td>0.0</td><td>0.0</td><td>0.0</td><td>0.0</td><td>0.0</td><td>0.0</td><td>0.0</td><td>0.0</td><td>0.0</td><td>0.0</td><td>0.0</td><td>3.0</td><td>1.0</td><td>1.0</td><td>1.0</td><td>1.0</td></tr><tr><td>&quot;3R2Uw5MRdSSigp…</td><td>31</td><td>3</td><td>1.0</td><td>1.0</td><td>451684.0</td><td>451685.0</td><td>1.0</td><td>2.0</td><td>451685.0</td><td>451684.0</td><td>1.0</td><td>1.5856196</td><td>0.7928098</td><td>0.7928098</td><td>0.7928098</td><td>0.7928098</td><td>0.7928098</td><td>0.0</td><td>0.7928098</td><td>0.3964049</td><td>0.3964049</td><td>0.7928098</td><td>0.0</td><td>0.7928098</td><td>0.3964049</td><td>0.3964049</td><td>0.000673</td><td>0.00032</td><td>0.000352</td><td>0.000336</td><td>0.000336</td><td>0.000672</td><td>0.00032</td><td>0.000352</td><td>0.000336</td><td>0.000336</td><td>1.0</td><td>1.0</td><td>1.0</td><td>1.0</td><td>1.0</td><td>0.0</td><td>0.0</td><td>0.0</td><td>0.0</td><td>0.0</td><td>0.0</td><td>0.0</td><td>0.0</td><td>0.0</td><td>0.0</td><td>0.0</td><td>3.0</td><td>1.0</td><td>1.0</td><td>1.0</td><td>1.0</td></tr><tr><td>&quot;3R2VBFbqHGC4bQ…</td><td>44</td><td>3</td><td>0.0</td><td>1.0</td><td>477895.0</td><td>477895.0</td><td>0.0</td><td>1.0</td><td>0.0</td><td>477895.0</td><td>1.0</td><td>0.063876</td><td>0.063876</td><td>0.063876</td><td>0.063876</td><td>0.063876</td><td>0.0</td><td>0.0</td><td>0.0</td><td>0.0</td><td>0.0</td><td>0.063876</td><td>0.063876</td><td>0.063876</td><td>0.063876</td><td>0.063876</td><td>0.013925</td><td>0.013925</td><td>0.013925</td><td>0.013925</td><td>0.013925</td><td>0.000005</td><td>0.000005</td><td>0.000005</td><td>0.000005</td><td>0.000005</td><td>0.0</td><td>0.0</td><td>0.0</td><td>0.0</td><td>0.0</td><td>0.0</td><td>0.0</td><td>0.0</td><td>0.0</td><td>0.0</td><td>0.0</td><td>0.0</td><td>0.0</td><td>0.0</td><td>0.0</td><td>0.0</td><td>1.0</td><td>1.0</td><td>1.0</td><td>1.0</td><td>1.0</td></tr><tr><td>&quot;3R2WFmRwbDeo3r…</td><td>9</td><td>3</td><td>0.0</td><td>1.0</td><td>407342.0</td><td>407342.0</td><td>0.0</td><td>1.0</td><td>0.0</td><td>407342.0</td><td>1.0</td><td>0.003801</td><td>0.003801</td><td>0.003801</td><td>0.003801</td><td>0.003801</td><td>0.0</td><td>0.0</td><td>0.0</td><td>0.0</td><td>0.0</td><td>0.003801</td><td>0.003801</td><td>0.003801</td><td>0.003801</td><td>0.003801</td><td>0.0000726</td><td>0.0000726</td><td>0.0000726</td><td>0.0000726</td><td>0.0000726</td><td>0.00001</td><td>0.00001</td><td>0.00001</td><td>0.00001</td><td>0.00001</td><td>0.0</td><td>0.0</td><td>0.0</td><td>0.0</td><td>0.0</td><td>0.0</td><td>0.0</td><td>0.0</td><td>0.0</td><td>0.0</td><td>0.0</td><td>0.0</td><td>0.0</td><td>0.0</td><td>0.0</td><td>0.0</td><td>1.0</td><td>1.0</td><td>1.0</td><td>1.0</td><td>1.0</td></tr><tr><td>&quot;3R2WTZGYLmbJQy…</td><td>3</td><td>3</td><td>0.0</td><td>1.0</td><td>395235.0</td><td>395235.0</td><td>0.0</td><td>1.0</td><td>0.0</td><td>395235.0</td><td>1.0</td><td>0.0207184</td><td>0.0207184</td><td>0.0207184</td><td>0.0207184</td><td>0.0207184</td><td>0.0</td><td>0.0</td><td>0.0</td><td>0.0</td><td>0.0</td><td>0.0207184</td><td>0.0207184</td><td>0.0207184</td><td>0.0207184</td><td>0.0207184</td><td>0.0001</td><td>0.0001</td><td>0.0001</td><td>0.0001</td><td>0.0001</td><td>3.8257e-7</td><td>3.8257e-7</td><td>3.8257e-7</td><td>3.8257e-7</td><td>3.8257e-7</td><td>0.0</td><td>0.0</td><td>0.0</td><td>0.0</td><td>0.0</td><td>0.0</td><td>0.0</td><td>0.0</td><td>0.0</td><td>0.0</td><td>0.0</td><td>0.0</td><td>0.0</td><td>0.0</td><td>0.0</td><td>0.0</td><td>1.0</td><td>1.0</td><td>1.0</td><td>1.0</td><td>1.0</td></tr><tr><td>&quot;3R2bm6iqbzcVpE…</td><td>9</td><td>3</td><td>1.0</td><td>0.0</td><td>407333.0</td><td>407333.0</td><td>0.0</td><td>1.0</td><td>407333.0</td><td>0.0</td><td>1.0</td><td>0.0049</td><td>0.0049</td><td>0.0049</td><td>0.0049</td><td>0.0049</td><td>0.0049</td><td>0.0049</td><td>0.0049</td><td>0.0049</td><td>0.0049</td><td>0.0</td><td>0.0</td><td>0.0</td><td>0.0</td><td>0.0</td><td>0.001257</td><td>0.001257</td><td>0.001257</td><td>0.001257</td><td>0.001257</td><td>0.000007</td><td>0.000007</td><td>0.000007</td><td>0.000007</td><td>0.000007</td><td>0.0</td><td>0.0</td><td>0.0</td><td>0.0</td><td>0.0</td><td>0.0</td><td>0.0</td><td>0.0</td><td>0.0</td><td>0.0</td><td>0.0</td><td>0.0</td><td>0.0</td><td>0.0</td><td>0.0</td><td>0.0</td><td>1.0</td><td>1.0</td><td>1.0</td><td>1.0</td><td>1.0</td></tr></tbody></table></div>"
            ]
          },
          "metadata": {},
          "execution_count": 3
        }
      ],
      "source": [
        "import polars as pol\n",
        "import torch\n",
        "\n",
        "features_wallets = pol.read_csv(\"./elliptic_bitcoin_dataset/wallets_features_classes_combined.csv\")\n",
        "features_wallets"
      ]
    },
    {
      "cell_type": "markdown",
      "metadata": {
        "id": "7NYxbH5nej9N"
      },
      "source": [
        "The code reads a CSV file named \"elliptic_bitcoin_dataset/wallets_features_classes_combined.csv\" into a Polars DataFrame named features_wallets. Printing the shape of this DataFrame reveals that it contains 1,268,260 rows and 58 columns. The columns in the DataFrame represent the following features:\n",
        "\n",
        "| Feature | Description |\n",
        "|---|---|\n",
        "| **Transaction related** | |\n",
        "| BTCtransacted | Total BTC transacted (sent+received) |\n",
        "| BTCsent | Total BTC sent |\n",
        "| BTCreceived | Total BTC received |\n",
        "| Fees | Total fees in BTC |\n",
        "| Feesshare | Total fees as share of BTC transacted |\n",
        "| **Time related** | |\n",
        "| Blockstxs | Number of blocks between transactions |\n",
        "| Blocksinput | Number of blocks between being an input address |\n",
        "| Blocksoutput | Number of blocks between being an output address |\n",
        "| Addr interactions | Number of interactions among addresses<br>5 values: total, min, max, mean, median |\n",
        "| Class | Class label: {illicit, licit, unknown} |\n",
        "| **Transaction related** | |\n",
        "| Txstotal | Total number of blockchain transactions |\n",
        "| TxSinput | Total number of dataset transactions as input address |\n",
        "| TxSoutput | Total number of dataset transactions as output address |\n",
        "| **Time related** | |\n",
        "| Timesteps | Number of time steps transacting in |\n",
        "| Lifetime | Lifetime in blocks |\n",
        "| Block first | Block height first transacted in<br>Block height last transacted in |\n",
        "| Blocklast |  |\n",
        "| Block first sent | Block height first sent in |\n",
        "| Block first receive | Block height first received in |\n",
        "| Repeat interactions | Number of addresses transacted with multiple times<br>single value |"
      ]
    },
    {
      "cell_type": "markdown",
      "metadata": {
        "id": "KKQ-xZEgej9O"
      },
      "source": [
        "Next, we prepare the labels as separate tensors, which are used for supervised training tasks."
      ]
    },
    {
      "cell_type": "code",
      "execution_count": null,
      "metadata": {
        "id": "6toIzi29ej9O",
        "outputId": "d27a2046-1499-4f2e-a97e-9c33c4e39cab",
        "colab": {
          "base_uri": "https://localhost:8080/"
        }
      },
      "outputs": [
        {
          "output_type": "execute_result",
          "data": {
            "text/plain": [
              "tensor([2, 3, 3,  ..., 3, 3, 3])"
            ]
          },
          "metadata": {},
          "execution_count": 4
        }
      ],
      "source": [
        "wallet_labels = torch.tensor(\n",
        "    features_wallets[\"class\"].to_numpy()\n",
        ").long()\n",
        "wallet_labels"
      ]
    },
    {
      "cell_type": "markdown",
      "metadata": {
        "id": "glr90ftrej9P"
      },
      "source": [
        "We convert a column of wallet class labels into a PyTorch tensor. We extract the class column as a NumPy array using features_wallets[\"class\"].to_numpy(). Then, we create a PyTorch tensor from this array using torch.tensor(…). Importantly, we cast the labels to long integers (dtype=torch.long()) since class labels are often treated as categorical data. Next, we clean up the feature vector and convert the Polars DataFrame to a PyTorch Tensor:"
      ]
    },
    {
      "cell_type": "markdown",
      "metadata": {
        "id": "vDlMwJMQej9P"
      },
      "source": [
        "Clean up the feature vector and convert the Polars DataFrame to a PyTorch Tensor"
      ]
    },
    {
      "cell_type": "code",
      "execution_count": null,
      "metadata": {
        "id": "5Qtp99Cbej9Q",
        "outputId": "45511a75-27c4-4dce-dadf-bb99f17b158b",
        "colab": {
          "base_uri": "https://localhost:8080/"
        }
      },
      "outputs": [
        {
          "output_type": "execute_result",
          "data": {
            "text/plain": [
              "tensor([[0.0000e+00, 1.0000e+00, 4.3959e+05,  ..., 1.0000e+00, 1.0000e+00,\n",
              "         1.0000e+00],\n",
              "        [0.0000e+00, 8.0000e+00, 4.3959e+05,  ..., 1.0000e+00, 1.0000e+00,\n",
              "         1.0000e+00],\n",
              "        [0.0000e+00, 8.0000e+00, 4.3959e+05,  ..., 1.0000e+00, 1.0000e+00,\n",
              "         1.0000e+00],\n",
              "        ...,\n",
              "        [0.0000e+00, 1.0000e+00, 4.0734e+05,  ..., 1.0000e+00, 1.0000e+00,\n",
              "         1.0000e+00],\n",
              "        [0.0000e+00, 1.0000e+00, 3.9524e+05,  ..., 1.0000e+00, 1.0000e+00,\n",
              "         1.0000e+00],\n",
              "        [1.0000e+00, 0.0000e+00, 4.0733e+05,  ..., 1.0000e+00, 1.0000e+00,\n",
              "         1.0000e+00]])"
            ]
          },
          "metadata": {},
          "execution_count": 5
        }
      ],
      "source": [
        "tensor_features_wallets = torch.tensor(\n",
        "    features_wallets.drop([\"class\", \"Time step\", \"address\"]).to_numpy(),\n",
        "    dtype=torch.float32,\n",
        ")\n",
        "tensor_features_wallets"
      ]
    },
    {
      "cell_type": "markdown",
      "metadata": {
        "id": "swgdKDLZej9Q"
      },
      "source": [
        "# Transaction data"
      ]
    },
    {
      "cell_type": "markdown",
      "metadata": {
        "id": "HE8bA3sDej9Q"
      },
      "source": [
        "The Bitcoin network thrives on a constant flow of transactions, represented as nodes in our dataset. Each transaction acts as a digital record on the blockchain, documenting the transfer of Bitcoins between different wallets. In our dataset, the edges represent these pathways. They show the flow of Bitcoins, connecting transactions to the wallets (wallet transactions edges) and even linking transactions to each other (transaction transactions). This intricate network of transactions allows us to analyze patterns and identify potential illicit activities that might try to remain hidden within the flow."
      ]
    },
    {
      "cell_type": "code",
      "execution_count": null,
      "metadata": {
        "id": "wJFSvRoDej9R",
        "outputId": "34f539e4-c1f8-4e29-9ca0-c64558f7fe9a",
        "colab": {
          "base_uri": "https://localhost:8080/",
          "height": 919
        }
      },
      "outputs": [
        {
          "output_type": "execute_result",
          "data": {
            "text/plain": [
              "shape: (203_769, 185)\n",
              "┌───────────┬───────────┬────────────┬────────────┬───┬────────────┬───────────┬───────────┬───────┐\n",
              "│ txId      ┆ Time step ┆ Local_feat ┆ Local_feat ┆ … ┆ out_BTC_me ┆ out_BTC_m ┆ out_BTC_t ┆ class │\n",
              "│ ---       ┆ ---       ┆ ure_1      ┆ ure_2      ┆   ┆ an         ┆ edian     ┆ otal      ┆ ---   │\n",
              "│ i64       ┆ i64       ┆ ---        ┆ ---        ┆   ┆ ---        ┆ ---       ┆ ---       ┆ i64   │\n",
              "│           ┆           ┆ f64        ┆ f64        ┆   ┆ f64        ┆ f64       ┆ f64       ┆       │\n",
              "╞═══════════╪═══════════╪════════════╪════════════╪═══╪════════════╪═══════════╪═══════════╪═══════╡\n",
              "│ 3321      ┆ 1         ┆ -0.169615  ┆ -0.184668  ┆ … ┆ 0.266986   ┆ 0.266986  ┆ 0.533972  ┆ 3     │\n",
              "│ 11108     ┆ 1         ┆ -0.137586  ┆ -0.184668  ┆ … ┆ 2.805889   ┆ 2.805889  ┆ 5.611778  ┆ 3     │\n",
              "│ 51816     ┆ 1         ┆ -0.170103  ┆ -0.184668  ┆ … ┆ 0.228254   ┆ 0.228254  ┆ 0.456508  ┆ 3     │\n",
              "│ 68869     ┆ 1         ┆ -0.114267  ┆ -0.184668  ┆ … ┆ 4.6544     ┆ 4.6544    ┆ 9.3088    ┆ 2     │\n",
              "│ …         ┆ …         ┆ …          ┆ …          ┆ … ┆ …          ┆ …         ┆ …         ┆ …     │\n",
              "│ 158303998 ┆ 49        ┆ -0.16704   ┆ -0.139563  ┆ … ┆ null       ┆ null      ┆ null      ┆ 3     │\n",
              "│ 158303966 ┆ 49        ┆ -0.16704   ┆ -0.139563  ┆ … ┆ null       ┆ null      ┆ null      ┆ 3     │\n",
              "│ 161526077 ┆ 49        ┆ -0.172212  ┆ -0.139573  ┆ … ┆ null       ┆ null      ┆ null      ┆ 3     │\n",
              "│ 194103537 ┆ 49        ┆ -0.172212  ┆ -0.139573  ┆ … ┆ null       ┆ null      ┆ null      ┆ 3     │\n",
              "└───────────┴───────────┴────────────┴────────────┴───┴────────────┴───────────┴───────────┴───────┘"
            ],
            "text/html": [
              "<div><style>\n",
              ".dataframe > thead > tr,\n",
              ".dataframe > tbody > tr {\n",
              "  text-align: right;\n",
              "  white-space: pre-wrap;\n",
              "}\n",
              "</style>\n",
              "<small>shape: (203_769, 185)</small><table border=\"1\" class=\"dataframe\"><thead><tr><th>txId</th><th>Time step</th><th>Local_feature_1</th><th>Local_feature_2</th><th>Local_feature_3</th><th>Local_feature_4</th><th>Local_feature_5</th><th>Local_feature_6</th><th>Local_feature_7</th><th>Local_feature_8</th><th>Local_feature_9</th><th>Local_feature_10</th><th>Local_feature_11</th><th>Local_feature_12</th><th>Local_feature_13</th><th>Local_feature_14</th><th>Local_feature_15</th><th>Local_feature_16</th><th>Local_feature_17</th><th>Local_feature_18</th><th>Local_feature_19</th><th>Local_feature_20</th><th>Local_feature_21</th><th>Local_feature_22</th><th>Local_feature_23</th><th>Local_feature_24</th><th>Local_feature_25</th><th>Local_feature_26</th><th>Local_feature_27</th><th>Local_feature_28</th><th>Local_feature_29</th><th>Local_feature_30</th><th>Local_feature_31</th><th>Local_feature_32</th><th>Local_feature_33</th><th>Local_feature_34</th><th>Local_feature_35</th><th>&hellip;</th><th>Aggregate_feature_54</th><th>Aggregate_feature_55</th><th>Aggregate_feature_56</th><th>Aggregate_feature_57</th><th>Aggregate_feature_58</th><th>Aggregate_feature_59</th><th>Aggregate_feature_60</th><th>Aggregate_feature_61</th><th>Aggregate_feature_62</th><th>Aggregate_feature_63</th><th>Aggregate_feature_64</th><th>Aggregate_feature_65</th><th>Aggregate_feature_66</th><th>Aggregate_feature_67</th><th>Aggregate_feature_68</th><th>Aggregate_feature_69</th><th>Aggregate_feature_70</th><th>Aggregate_feature_71</th><th>Aggregate_feature_72</th><th>in_txs_degree</th><th>out_txs_degree</th><th>total_BTC</th><th>fees</th><th>size</th><th>num_input_addresses</th><th>num_output_addresses</th><th>in_BTC_min</th><th>in_BTC_max</th><th>in_BTC_mean</th><th>in_BTC_median</th><th>in_BTC_total</th><th>out_BTC_min</th><th>out_BTC_max</th><th>out_BTC_mean</th><th>out_BTC_median</th><th>out_BTC_total</th><th>class</th></tr><tr><td>i64</td><td>i64</td><td>f64</td><td>f64</td><td>f64</td><td>f64</td><td>f64</td><td>f64</td><td>f64</td><td>f64</td><td>f64</td><td>f64</td><td>f64</td><td>f64</td><td>f64</td><td>f64</td><td>f64</td><td>f64</td><td>f64</td><td>f64</td><td>f64</td><td>f64</td><td>f64</td><td>f64</td><td>f64</td><td>f64</td><td>f64</td><td>f64</td><td>f64</td><td>f64</td><td>f64</td><td>f64</td><td>f64</td><td>f64</td><td>f64</td><td>f64</td><td>f64</td><td>&hellip;</td><td>f64</td><td>f64</td><td>f64</td><td>f64</td><td>f64</td><td>f64</td><td>f64</td><td>f64</td><td>f64</td><td>f64</td><td>f64</td><td>f64</td><td>f64</td><td>f64</td><td>f64</td><td>f64</td><td>f64</td><td>f64</td><td>f64</td><td>f64</td><td>f64</td><td>f64</td><td>f64</td><td>f64</td><td>f64</td><td>f64</td><td>f64</td><td>f64</td><td>f64</td><td>f64</td><td>f64</td><td>f64</td><td>f64</td><td>f64</td><td>f64</td><td>f64</td><td>i64</td></tr></thead><tbody><tr><td>3321</td><td>1</td><td>-0.169615</td><td>-0.184668</td><td>-1.201369</td><td>-0.12197</td><td>-0.043875</td><td>-0.113002</td><td>-0.061584</td><td>-0.160199</td><td>-0.166062</td><td>-0.049707</td><td>-0.162507</td><td>-0.028741</td><td>-0.035391</td><td>-0.042955</td><td>-0.013282</td><td>-0.042183</td><td>-0.16877</td><td>-0.171416</td><td>-0.172277</td><td>-1.373657</td><td>-1.37146</td><td>-0.139663</td><td>-0.148869</td><td>-0.080147</td><td>-0.155604</td><td>-0.010763</td><td>-0.012107</td><td>-0.139665</td><td>-0.148864</td><td>-0.080147</td><td>-0.155604</td><td>-0.010669</td><td>-0.012005</td><td>-0.024668</td><td>-0.031272</td><td>&hellip;</td><td>-1.01623</td><td>-0.968903</td><td>-1.94385</td><td>-1.059868</td><td>-1.678997</td><td>0.185597</td><td>0.185492</td><td>-0.003773</td><td>-0.562664</td><td>-0.577099</td><td>-0.50008</td><td>0.241128</td><td>0.241406</td><td>-0.098889</td><td>-0.08749</td><td>-0.084674</td><td>-0.140597</td><td>1.5197</td><td>1.521399</td><td>1.0</td><td>0.0</td><td>0.533972</td><td>0.0001</td><td>225.0</td><td>1.0</td><td>2.0</td><td>0.534072</td><td>0.534072</td><td>0.534072</td><td>0.534072</td><td>0.534072</td><td>0.166899</td><td>0.367074</td><td>0.266986</td><td>0.266986</td><td>0.533972</td><td>3</td></tr><tr><td>11108</td><td>1</td><td>-0.137586</td><td>-0.184668</td><td>-1.201369</td><td>-0.12197</td><td>-0.043875</td><td>-0.113002</td><td>-0.061584</td><td>-0.127429</td><td>-0.133751</td><td>-0.049707</td><td>-0.129773</td><td>-0.028741</td><td>-0.035391</td><td>-0.042955</td><td>-0.013282</td><td>-0.003952</td><td>-0.13856</td><td>-0.139821</td><td>-0.134358</td><td>0.887058</td><td>0.884557</td><td>-0.139564</td><td>-0.148805</td><td>-0.080147</td><td>-0.15552</td><td>-0.010763</td><td>-0.012107</td><td>-0.139566</td><td>-0.1488</td><td>-0.080147</td><td>-0.15552</td><td>-0.010669</td><td>-0.012005</td><td>-0.02453</td><td>-0.031142</td><td>&hellip;</td><td>-1.01623</td><td>-0.968903</td><td>-1.94385</td><td>-1.059868</td><td>-1.678997</td><td>0.185597</td><td>0.185492</td><td>-0.216814</td><td>-0.605631</td><td>-0.562153</td><td>-0.600999</td><td>-0.979074</td><td>-0.978556</td><td>0.018279</td><td>-0.08749</td><td>-0.131155</td><td>-0.097524</td><td>-0.120613</td><td>-0.119792</td><td>1.0</td><td>1.0</td><td>5.611778</td><td>0.0001</td><td>225.0</td><td>1.0</td><td>2.0</td><td>5.611878</td><td>5.611878</td><td>5.611878</td><td>5.611878</td><td>5.611878</td><td>0.586194</td><td>5.0255839</td><td>2.805889</td><td>2.805889</td><td>5.611778</td><td>3</td></tr><tr><td>51816</td><td>1</td><td>-0.170103</td><td>-0.184668</td><td>-1.201369</td><td>-0.12197</td><td>-0.043875</td><td>-0.113002</td><td>-0.061584</td><td>-0.160699</td><td>-0.166555</td><td>-0.049707</td><td>-0.163006</td><td>-0.028741</td><td>-0.035391</td><td>-0.042955</td><td>-0.013282</td><td>-0.036613</td><td>-0.169668</td><td>-0.172904</td><td>-0.172855</td><td>-1.373657</td><td>-1.37146</td><td>-0.139731</td><td>-0.148912</td><td>-0.080147</td><td>-0.155661</td><td>-0.010763</td><td>-0.012107</td><td>-0.139732</td><td>-0.148907</td><td>-0.080147</td><td>-0.155661</td><td>-0.010669</td><td>-0.012005</td><td>-0.024669</td><td>-0.031272</td><td>&hellip;</td><td>0.142525</td><td>-0.968903</td><td>-1.94385</td><td>-1.059868</td><td>-1.678997</td><td>0.185597</td><td>0.185492</td><td>-0.216814</td><td>-0.617907</td><td>-0.577099</td><td>-0.613614</td><td>0.241128</td><td>0.241406</td><td>0.018279</td><td>-0.08749</td><td>-0.131155</td><td>-0.097524</td><td>-0.120613</td><td>-0.119792</td><td>1.0</td><td>1.0</td><td>0.456508</td><td>0.0001</td><td>226.0</td><td>1.0</td><td>2.0</td><td>0.456608</td><td>0.456608</td><td>0.456608</td><td>0.456608</td><td>0.456608</td><td>0.22799</td><td>0.2285182</td><td>0.228254</td><td>0.228254</td><td>0.456508</td><td>3</td></tr><tr><td>68869</td><td>1</td><td>-0.114267</td><td>-0.184668</td><td>-1.201369</td><td>0.028105</td><td>-0.043875</td><td>-0.113002</td><td>0.547008</td><td>-0.161652</td><td>-0.118555</td><td>0.300047</td><td>-0.145947</td><td>2.017758</td><td>1.189967</td><td>-0.042955</td><td>-0.013282</td><td>0.054659</td><td>-0.118754</td><td>-0.121849</td><td>-0.106751</td><td>-1.373657</td><td>-1.37146</td><td>-0.139302</td><td>-0.148638</td><td>-0.080147</td><td>-0.155297</td><td>-0.010763</td><td>-0.012107</td><td>-0.139303</td><td>-0.148633</td><td>-0.080147</td><td>-0.155297</td><td>-0.010669</td><td>-0.012005</td><td>-0.024667</td><td>-0.03127</td><td>&hellip;</td><td>0.142525</td><td>-0.968903</td><td>-1.94385</td><td>-1.059868</td><td>-1.678997</td><td>0.185597</td><td>0.185492</td><td>-0.216814</td><td>-0.611769</td><td>-0.569626</td><td>-0.607306</td><td>-0.979074</td><td>-0.978556</td><td>0.018279</td><td>-0.08749</td><td>-0.131155</td><td>-0.097524</td><td>-0.120613</td><td>-0.119792</td><td>0.0</td><td>1.0</td><td>9.3088</td><td>0.0001</td><td>853.0</td><td>3.0</td><td>2.0</td><td>0.3089</td><td>8.0</td><td>3.102967</td><td>1.0</td><td>9.3089</td><td>1.229</td><td>8.0798</td><td>4.6544</td><td>4.6544</td><td>9.3088</td><td>2</td></tr><tr><td>89273</td><td>1</td><td>5.202107</td><td>-0.210553</td><td>-1.756361</td><td>-0.12197</td><td>260.090707</td><td>-0.113002</td><td>-0.061584</td><td>5.335864</td><td>5.252974</td><td>-0.049707</td><td>5.327423</td><td>-0.028741</td><td>-0.035391</td><td>265.263236</td><td>-0.013282</td><td>-0.057401</td><td>0.096439</td><td>-0.167593</td><td>-0.175293</td><td>-0.474922</td><td>-1.37146</td><td>1.828567</td><td>1.107041</td><td>-0.080147</td><td>1.512162</td><td>-0.010763</td><td>-0.012107</td><td>1.828864</td><td>1.10713</td><td>-0.080147</td><td>1.51234</td><td>-0.010669</td><td>-0.012005</td><td>-0.024669</td><td>-0.031272</td><td>&hellip;</td><td>0.030362</td><td>-1.51191</td><td>1.192421</td><td>1.085161</td><td>-0.222904</td><td>0.094796</td><td>0.084615</td><td>-0.216814</td><td>4.010246</td><td>1.25863</td><td>0.982479</td><td>0.118347</td><td>0.091066</td><td>-0.098889</td><td>0.854508</td><td>-0.066727</td><td>-0.150067</td><td>-0.08076</td><td>-0.070977</td><td>1.0</td><td>288.0</td><td>852.16468</td><td>0.0</td><td>445268.0</td><td>1.0</td><td>13107.0</td><td>852.16468</td><td>852.16468</td><td>852.16468</td><td>852.16468</td><td>852.16468</td><td>1.3000e-7</td><td>41.264036</td><td>0.065016</td><td>0.000441</td><td>852.16468</td><td>2</td></tr><tr><td>195142</td><td>1</td><td>-0.170284</td><td>-0.184668</td><td>-1.201369</td><td>-0.12197</td><td>-0.043875</td><td>-0.113002</td><td>-0.061584</td><td>-0.160884</td><td>-0.166737</td><td>-0.049707</td><td>-0.163191</td><td>-0.028741</td><td>-0.035391</td><td>-0.042955</td><td>-0.013282</td><td>-0.056954</td><td>-0.168408</td><td>-0.169792</td><td>-0.173069</td><td>0.887058</td><td>0.884557</td><td>-0.13973</td><td>-0.148911</td><td>-0.080147</td><td>-0.15566</td><td>-0.010763</td><td>-0.012107</td><td>-0.139732</td><td>-0.148906</td><td>-0.080147</td><td>-0.15566</td><td>-0.010669</td><td>-0.012005</td><td>-0.024669</td><td>-0.031272</td><td>&hellip;</td><td>0.142525</td><td>-0.968903</td><td>-1.94385</td><td>-1.059868</td><td>-1.678997</td><td>0.185597</td><td>0.185492</td><td>-0.216814</td><td>-0.482868</td><td>-0.412695</td><td>-0.47485</td><td>-0.979074</td><td>-0.978556</td><td>-0.098889</td><td>-0.08749</td><td>-0.084674</td><td>-0.140597</td><td>1.5197</td><td>1.521399</td><td>0.0</td><td>1.0</td><td>0.427855</td><td>0.0001</td><td>225.0</td><td>1.0</td><td>2.0</td><td>0.427955</td><td>0.427955</td><td>0.427955</td><td>0.427955</td><td>0.427955</td><td>0.0049</td><td>0.422955</td><td>0.213928</td><td>0.213928</td><td>0.427855</td><td>3</td></tr><tr><td>223263</td><td>1</td><td>-0.138618</td><td>-0.184668</td><td>-1.201369</td><td>-0.12197</td><td>-0.043875</td><td>-0.113002</td><td>-0.061584</td><td>-0.128486</td><td>-0.134793</td><td>-0.049707</td><td>-0.130828</td><td>-0.028741</td><td>-0.035391</td><td>-0.042955</td><td>-0.013282</td><td>-0.048949</td><td>-0.136422</td><td>-0.133685</td><td>-0.135581</td><td>0.887058</td><td>0.884557</td><td>-0.139583</td><td>-0.148817</td><td>-0.080147</td><td>-0.155536</td><td>-0.010763</td><td>-0.012107</td><td>-0.139585</td><td>-0.148813</td><td>-0.080147</td><td>-0.155536</td><td>-0.010669</td><td>-0.012005</td><td>-0.024669</td><td>-0.031272</td><td>&hellip;</td><td>-1.01623</td><td>-0.968903</td><td>-0.898426</td><td>0.153209</td><td>-1.071885</td><td>-1.116918</td><td>-1.116948</td><td>-0.216814</td><td>-0.587217</td><td>-0.539735</td><td>-0.582077</td><td>-0.979074</td><td>-0.978556</td><td>0.018279</td><td>-0.08749</td><td>-0.131155</td><td>-0.097524</td><td>-0.120613</td><td>-0.119792</td><td>1.0</td><td>1.0</td><td>5.448093</td><td>0.0001</td><td>225.0</td><td>1.0</td><td>2.0</td><td>5.448193</td><td>5.448193</td><td>5.448193</td><td>5.448193</td><td>5.448193</td><td>0.092693</td><td>5.355399</td><td>2.724046</td><td>2.724046</td><td>5.448093</td><td>3</td></tr><tr><td>223265</td><td>1</td><td>0.229845</td><td>-0.171725</td><td>-0.646376</td><td>-0.12197</td><td>0.234026</td><td>-0.113002</td><td>-0.061584</td><td>0.248507</td><td>0.236916</td><td>-0.049707</td><td>0.245743</td><td>-0.028741</td><td>-0.035391</td><td>0.24047</td><td>-0.013282</td><td>-0.05529</td><td>0.202928</td><td>-0.021889</td><td>-0.116651</td><td>-0.680107</td><td>-0.906986</td><td>-0.139557</td><td>-0.148801</td><td>-0.080147</td><td>-0.155514</td><td>-0.010763</td><td>-0.012107</td><td>-0.139559</td><td>-0.148796</td><td>-0.080147</td><td>-0.155514</td><td>-0.010669</td><td>-0.012005</td><td>-0.024669</td><td>-0.031272</td><td>&hellip;</td><td>0.583786</td><td>-0.968903</td><td>0.669709</td><td>0.845346</td><td>-0.464773</td><td>0.727563</td><td>0.691176</td><td>-0.216814</td><td>3.028144</td><td>2.055449</td><td>1.803711</td><td>0.862509</td><td>0.907171</td><td>-0.098889</td><td>0.066306</td><td>0.011857</td><td>-0.075987</td><td>-0.891306</td><td>-1.010039</td><td>0.0</td><td>3.0</td><td>63.864107</td><td>0.00015</td><td>702.0</td><td>1.0</td><td>16.0</td><td>63.864257</td><td>63.864257</td><td>63.864257</td><td>63.864257</td><td>63.864257</td><td>0.023154</td><td>57.685279</td><td>3.991507</td><td>0.231161</td><td>63.864107</td><td>3</td></tr><tr><td>245992</td><td>1</td><td>-0.123707</td><td>-0.09203</td><td>1.018602</td><td>-0.12197</td><td>0.035526</td><td>-0.113002</td><td>-0.061584</td><td>-0.113227</td><td>-0.119748</td><td>-0.049707</td><td>-0.115587</td><td>-0.028741</td><td>-0.035391</td><td>0.038023</td><td>-0.013282</td><td>-0.05719</td><td>-0.130887</td><td>-0.147136</td><td>-0.156819</td><td>0.551244</td><td>0.562268</td><td>-0.13971</td><td>-0.148899</td><td>-0.080147</td><td>-0.155644</td><td>-0.010763</td><td>-0.012107</td><td>-0.139712</td><td>-0.148894</td><td>-0.080147</td><td>-0.155644</td><td>-0.010669</td><td>-0.012005</td><td>-0.024669</td><td>-0.031272</td><td>&hellip;</td><td>0.109418</td><td>-0.968903</td><td>0.146997</td><td>0.691058</td><td>-0.565959</td><td>0.492568</td><td>0.426657</td><td>-0.216814</td><td>1.82507</td><td>1.012619</td><td>0.734075</td><td>-0.526769</td><td>-0.359798</td><td>-0.098889</td><td>0.008632</td><td>0.010847</td><td>-0.040092</td><td>1.097003</td><td>1.267268</td><td>1.0</td><td>1.0</td><td>7.81214</td><td>0.000458</td><td>361.0</td><td>1.0</td><td>6.0</td><td>7.812598</td><td>7.812598</td><td>7.812598</td><td>7.812598</td><td>7.812598</td><td>0.002312</td><td>6.208918</td><td>1.302023</td><td>0.168599</td><td>7.81214</td><td>3</td></tr><tr><td>267260</td><td>1</td><td>-0.171722</td><td>-0.184668</td><td>-1.201369</td><td>-0.046932</td><td>-0.043875</td><td>-0.02914</td><td>-0.061584</td><td>-0.163485</td><td>-0.168347</td><td>-0.040994</td><td>-0.165305</td><td>2.459222</td><td>2.415325</td><td>-0.042955</td><td>-0.013282</td><td>-0.055122</td><td>-0.170017</td><td>-0.171792</td><td>-0.174772</td><td>0.887058</td><td>0.884557</td><td>-0.139732</td><td>-0.148912</td><td>-0.080147</td><td>-0.155662</td><td>2.679386</td><td>2.665377</td><td>-0.139734</td><td>-0.148907</td><td>-0.080146</td><td>-0.155662</td><td>2.679448</td><td>2.665308</td><td>-0.024669</td><td>-0.031272</td><td>&hellip;</td><td>-1.01623</td><td>-0.968903</td><td>-1.94385</td><td>-1.059868</td><td>-1.678997</td><td>0.185597</td><td>0.185492</td><td>-0.193143</td><td>-0.57494</td><td>-0.532262</td><td>-0.563154</td><td>-0.979074</td><td>-0.978556</td><td>-0.098889</td><td>-0.08749</td><td>-0.084674</td><td>-0.140597</td><td>1.5197</td><td>1.521399</td><td>2.0</td><td>1.0</td><td>0.1998</td><td>0.0001</td><td>374.0</td><td>2.0</td><td>2.0</td><td>0.025</td><td>0.1749</td><td>0.09995</td><td>0.09995</td><td>0.1999</td><td>0.025</td><td>0.1748</td><td>0.0999</td><td>0.0999</td><td>0.1998</td><td>3</td></tr><tr><td>267262</td><td>1</td><td>-0.171153</td><td>-0.184668</td><td>-1.201369</td><td>-0.046932</td><td>-0.043875</td><td>-0.02914</td><td>-0.061584</td><td>-0.163562</td><td>-0.167697</td><td>-0.034353</td><td>-0.165014</td><td>2.459222</td><td>2.415325</td><td>-0.042955</td><td>-0.013282</td><td>-0.056216</td><td>-0.169354</td><td>-0.17094</td><td>-0.174098</td><td>0.887058</td><td>0.884557</td><td>-0.139732</td><td>-0.148912</td><td>-0.080147</td><td>-0.155662</td><td>2.679386</td><td>2.665377</td><td>-0.139734</td><td>-0.148907</td><td>-0.080146</td><td>-0.155662</td><td>2.679448</td><td>2.665308</td><td>-0.024669</td><td>-0.031272</td><td>&hellip;</td><td>-1.01623</td><td>-0.968903</td><td>-1.94385</td><td>-1.059868</td><td>-1.678997</td><td>0.185597</td><td>0.185492</td><td>-0.193143</td><td>-0.57494</td><td>-0.532262</td><td>-0.563154</td><td>-0.979074</td><td>-0.978556</td><td>-0.098889</td><td>-0.08749</td><td>-0.084674</td><td>-0.140597</td><td>1.5197</td><td>1.521399</td><td>2.0</td><td>1.0</td><td>0.290057</td><td>0.0001</td><td>373.0</td><td>2.0</td><td>2.0</td><td>0.013</td><td>0.277157</td><td>0.145079</td><td>0.145079</td><td>0.290157</td><td>0.013</td><td>0.277057</td><td>0.145029</td><td>0.145029</td><td>0.290057</td><td>3</td></tr><tr><td>293323</td><td>1</td><td>-0.172726</td><td>-0.184668</td><td>-1.201369</td><td>-0.12197</td><td>-0.043875</td><td>-0.113002</td><td>-0.061584</td><td>-0.163383</td><td>-0.169201</td><td>-0.049707</td><td>-0.165687</td><td>-0.028741</td><td>-0.035391</td><td>-0.042955</td><td>-0.013282</td><td>-0.057315</td><td>-0.170893</td><td>-0.172619</td><td>-0.17596</td><td>0.887058</td><td>0.884557</td><td>-0.139732</td><td>-0.148912</td><td>-0.080147</td><td>-0.155662</td><td>-0.010763</td><td>-0.012107</td><td>-0.139734</td><td>-0.148908</td><td>-0.080147</td><td>-0.155662</td><td>-0.010669</td><td>-0.012005</td><td>-0.024669</td><td>-0.031272</td><td>&hellip;</td><td>-1.01623</td><td>0.660117</td><td>0.146997</td><td>-0.45333</td><td>0.445895</td><td>-1.116918</td><td>-1.116948</td><td>-0.193143</td><td>-0.581079</td><td>-0.539735</td><td>-0.569462</td><td>1.46133</td><td>1.461369</td><td>-0.098889</td><td>-0.08749</td><td>-0.084674</td><td>-0.140597</td><td>1.5197</td><td>1.521399</td><td>1.0</td><td>1.0</td><td>0.040674</td><td>0.0001</td><td>258.0</td><td>1.0</td><td>2.0</td><td>0.040774</td><td>0.040774</td><td>0.040774</td><td>0.040774</td><td>0.040774</td><td>0.000948</td><td>0.039726</td><td>0.020337</td><td>0.020337</td><td>0.040674</td><td>2</td></tr><tr><td>&hellip;</td><td>&hellip;</td><td>&hellip;</td><td>&hellip;</td><td>&hellip;</td><td>&hellip;</td><td>&hellip;</td><td>&hellip;</td><td>&hellip;</td><td>&hellip;</td><td>&hellip;</td><td>&hellip;</td><td>&hellip;</td><td>&hellip;</td><td>&hellip;</td><td>&hellip;</td><td>&hellip;</td><td>&hellip;</td><td>&hellip;</td><td>&hellip;</td><td>&hellip;</td><td>&hellip;</td><td>&hellip;</td><td>&hellip;</td><td>&hellip;</td><td>&hellip;</td><td>&hellip;</td><td>&hellip;</td><td>&hellip;</td><td>&hellip;</td><td>&hellip;</td><td>&hellip;</td><td>&hellip;</td><td>&hellip;</td><td>&hellip;</td><td>&hellip;</td><td>&hellip;</td><td>&hellip;</td><td>&hellip;</td><td>&hellip;</td><td>&hellip;</td><td>&hellip;</td><td>&hellip;</td><td>&hellip;</td><td>&hellip;</td><td>&hellip;</td><td>&hellip;</td><td>&hellip;</td><td>&hellip;</td><td>&hellip;</td><td>&hellip;</td><td>&hellip;</td><td>&hellip;</td><td>&hellip;</td><td>&hellip;</td><td>&hellip;</td><td>&hellip;</td><td>&hellip;</td><td>&hellip;</td><td>&hellip;</td><td>&hellip;</td><td>&hellip;</td><td>&hellip;</td><td>&hellip;</td><td>&hellip;</td><td>&hellip;</td><td>&hellip;</td><td>&hellip;</td><td>&hellip;</td><td>&hellip;</td><td>&hellip;</td><td>&hellip;</td><td>&hellip;</td><td>&hellip;</td><td>&hellip;</td></tr><tr><td>218122643</td><td>47</td><td>-0.17295</td><td>0.017225</td><td>1.018602</td><td>-0.12197</td><td>-0.043875</td><td>-0.113002</td><td>-0.061584</td><td>-0.163607</td><td>-0.169422</td><td>-0.049707</td><td>-0.165911</td><td>-0.028741</td><td>-0.035391</td><td>-0.042955</td><td>-0.013282</td><td>-0.05739</td><td>-0.171118</td><td>-0.172872</td><td>-0.176226</td><td>0.887058</td><td>0.884557</td><td>-0.13973</td><td>-0.148911</td><td>-0.080147</td><td>-0.155661</td><td>-0.010763</td><td>-0.012107</td><td>-0.139732</td><td>-0.148907</td><td>-0.080147</td><td>-0.155661</td><td>-0.010669</td><td>-0.012005</td><td>-0.024669</td><td>-0.031272</td><td>&hellip;</td><td>-1.01623</td><td>0.117111</td><td>0.146997</td><td>0.153209</td><td>0.142339</td><td>-1.116918</td><td>-1.116948</td><td>-0.193143</td><td>-0.010232</td><td>0.15525</td><td>0.01713</td><td>-0.979074</td><td>-0.978556</td><td>-0.098889</td><td>-0.08749</td><td>-0.084674</td><td>-0.140597</td><td>1.5197</td><td>1.521399</td><td>null</td><td>null</td><td>null</td><td>null</td><td>null</td><td>null</td><td>null</td><td>null</td><td>null</td><td>null</td><td>null</td><td>null</td><td>null</td><td>null</td><td>null</td><td>null</td><td>null</td><td>2</td></tr><tr><td>219394523</td><td>47</td><td>-0.17295</td><td>0.017225</td><td>1.018602</td><td>-0.12197</td><td>-0.043875</td><td>-0.113002</td><td>-0.061584</td><td>-0.163607</td><td>-0.169422</td><td>-0.049707</td><td>-0.165911</td><td>-0.028741</td><td>-0.035391</td><td>-0.042955</td><td>-0.013282</td><td>-0.057358</td><td>-0.17112</td><td>-0.172877</td><td>-0.176226</td><td>0.887058</td><td>0.884557</td><td>-0.139727</td><td>-0.148909</td><td>-0.080147</td><td>-0.155658</td><td>-0.010763</td><td>-0.012107</td><td>-0.139729</td><td>-0.148904</td><td>-0.080147</td><td>-0.155658</td><td>-0.010669</td><td>-0.012005</td><td>-0.024669</td><td>-0.031272</td><td>&hellip;</td><td>1.301281</td><td>1.746131</td><td>1.192421</td><td>-0.45333</td><td>1.660119</td><td>-1.116918</td><td>-1.116948</td><td>2.031954</td><td>3.181598</td><td>3.338725</td><td>3.889896</td><td>1.46133</td><td>1.461369</td><td>0.018279</td><td>0.200877</td><td>0.566061</td><td>0.548579</td><td>1.5197</td><td>1.521399</td><td>null</td><td>null</td><td>null</td><td>null</td><td>null</td><td>null</td><td>null</td><td>null</td><td>null</td><td>null</td><td>null</td><td>null</td><td>null</td><td>null</td><td>null</td><td>null</td><td>null</td><td>2</td></tr><tr><td>218307592</td><td>47</td><td>-0.17278</td><td>-0.052654</td><td>-0.646376</td><td>-0.12197</td><td>-0.063725</td><td>-0.113002</td><td>-0.061584</td><td>-0.163435</td><td>-0.169252</td><td>-0.049707</td><td>-0.165739</td><td>-0.028741</td><td>-0.035391</td><td>-0.0632</td><td>-0.013282</td><td>-0.054475</td><td>-0.170942</td><td>-0.172908</td><td>-0.175785</td><td>-0.2433</td><td>-0.243452</td><td>-0.137795</td><td>-0.147676</td><td>-0.080147</td><td>-0.15402</td><td>-0.010763</td><td>-0.012107</td><td>-0.137796</td><td>-0.147671</td><td>-0.080147</td><td>-0.15402</td><td>-0.010669</td><td>-0.012005</td><td>-0.024669</td><td>-0.031272</td><td>&hellip;</td><td>0.142525</td><td>0.660117</td><td>-0.375715</td><td>-1.059868</td><td>0.142339</td><td>0.185597</td><td>0.185492</td><td>0.540666</td><td>-0.421487</td><td>-0.577099</td><td>-0.209938</td><td>0.241128</td><td>0.241406</td><td>-0.098889</td><td>-0.106715</td><td>-0.131155</td><td>-0.183671</td><td>-0.120613</td><td>-0.119792</td><td>null</td><td>null</td><td>null</td><td>null</td><td>null</td><td>null</td><td>null</td><td>null</td><td>null</td><td>null</td><td>null</td><td>null</td><td>null</td><td>null</td><td>null</td><td>null</td><td>null</td><td>2</td></tr><tr><td>218122909</td><td>47</td><td>-0.172928</td><td>0.017225</td><td>1.018602</td><td>-0.12197</td><td>-0.043875</td><td>-0.113002</td><td>-0.061584</td><td>-0.163584</td><td>-0.169399</td><td>-0.049707</td><td>-0.165888</td><td>-0.028741</td><td>-0.035391</td><td>-0.042955</td><td>-0.013282</td><td>-0.057367</td><td>-0.171096</td><td>-0.172849</td><td>-0.176199</td><td>0.887058</td><td>0.884557</td><td>-0.139732</td><td>-0.148912</td><td>-0.080147</td><td>-0.155662</td><td>-0.010763</td><td>-0.012107</td><td>-0.139734</td><td>-0.148908</td><td>-0.080147</td><td>-0.155662</td><td>-0.010669</td><td>-0.012005</td><td>-0.024669</td><td>-0.031272</td><td>&hellip;</td><td>-1.01623</td><td>1.746131</td><td>1.192421</td><td>-0.45333</td><td>1.660119</td><td>-1.116918</td><td>-1.116948</td><td>2.008283</td><td>0.603581</td><td>0.20756</td><td>1.234465</td><td>1.46133</td><td>1.461369</td><td>-0.098889</td><td>-0.08749</td><td>-0.084674</td><td>-0.140597</td><td>-1.760926</td><td>-1.760984</td><td>null</td><td>null</td><td>null</td><td>null</td><td>null</td><td>null</td><td>null</td><td>null</td><td>null</td><td>null</td><td>null</td><td>null</td><td>null</td><td>null</td><td>null</td><td>null</td><td>null</td><td>3</td></tr><tr><td>129788216</td><td>47</td><td>-0.17295</td><td>0.017225</td><td>1.018602</td><td>-0.12197</td><td>-0.043875</td><td>-0.113002</td><td>-0.061584</td><td>-0.163607</td><td>-0.169422</td><td>-0.049707</td><td>-0.165911</td><td>-0.028741</td><td>-0.035391</td><td>-0.042955</td><td>-0.013282</td><td>-0.057399</td><td>-0.171117</td><td>-0.17287</td><td>-0.176226</td><td>-1.373657</td><td>-1.37146</td><td>-0.13973</td><td>-0.148911</td><td>-0.080147</td><td>-0.155661</td><td>-0.010763</td><td>-0.012107</td><td>-0.139732</td><td>-0.148907</td><td>-0.080147</td><td>-0.155661</td><td>-0.010669</td><td>-0.012005</td><td>-0.024669</td><td>-0.031272</td><td>&hellip;</td><td>1.301281</td><td>1.203124</td><td>0.146997</td><td>-1.059868</td><td>0.749451</td><td>0.185597</td><td>0.185492</td><td>-0.193143</td><td>-0.010232</td><td>0.15525</td><td>0.01713</td><td>1.46133</td><td>1.461369</td><td>-0.098889</td><td>-0.08749</td><td>-0.084674</td><td>-0.140597</td><td>-1.760926</td><td>-1.760984</td><td>null</td><td>null</td><td>null</td><td>null</td><td>null</td><td>null</td><td>null</td><td>null</td><td>null</td><td>null</td><td>null</td><td>null</td><td>null</td><td>null</td><td>null</td><td>null</td><td>null</td><td>2</td></tr><tr><td>218059388</td><td>47</td><td>-0.172063</td><td>0.048298</td><td>-1.201369</td><td>-0.046932</td><td>-0.063725</td><td>-0.02914</td><td>-0.061584</td><td>-0.163172</td><td>-0.168993</td><td>-0.049707</td><td>-0.165476</td><td>-0.028741</td><td>-0.035391</td><td>-0.0632</td><td>-0.013282</td><td>-0.044107</td><td>-0.170205</td><td>-0.172908</td><td>-0.174087</td><td>-0.2433</td><td>-0.243452</td><td>-0.139732</td><td>-0.148912</td><td>-0.080147</td><td>-0.155662</td><td>-0.010763</td><td>-0.012107</td><td>-0.139733</td><td>-0.148907</td><td>-0.080147</td><td>-0.155662</td><td>-0.010669</td><td>-0.012005</td><td>-0.024669</td><td>-0.031272</td><td>&hellip;</td><td>0.142525</td><td>0.117111</td><td>-0.898426</td><td>-1.059868</td><td>-0.464773</td><td>0.185597</td><td>0.185492</td><td>0.588008</td><td>-0.409211</td><td>-0.577099</td><td>-0.184708</td><td>0.241128</td><td>0.241406</td><td>1.189961</td><td>0.104754</td><td>-0.131155</td><td>0.763946</td><td>-0.120613</td><td>-0.119792</td><td>null</td><td>null</td><td>null</td><td>null</td><td>null</td><td>null</td><td>null</td><td>null</td><td>null</td><td>null</td><td>null</td><td>null</td><td>null</td><td>null</td><td>null</td><td>null</td><td>null</td><td>3</td></tr><tr><td>158303968</td><td>49</td><td>-0.165622</td><td>-0.139563</td><td>1.018602</td><td>-0.12197</td><td>-0.043875</td><td>-0.113002</td><td>-0.061584</td><td>-0.156113</td><td>-0.162033</td><td>-0.049707</td><td>-0.158425</td><td>-0.028741</td><td>-0.035391</td><td>-0.042955</td><td>-0.013282</td><td>-0.036931</td><td>-0.165039</td><td>-0.167557</td><td>-0.16755</td><td>0.887058</td><td>0.884557</td><td>-0.139729</td><td>-0.14891</td><td>-0.080147</td><td>-0.155659</td><td>-0.010763</td><td>-0.012107</td><td>-0.13973</td><td>-0.148906</td><td>-0.080147</td><td>-0.155659</td><td>-0.010669</td><td>-0.012005</td><td>-0.024669</td><td>-0.031272</td><td>&hellip;</td><td>-1.01623</td><td>1.203124</td><td>0.669709</td><td>-0.45333</td><td>1.053007</td><td>-1.116918</td><td>-1.116948</td><td>-0.216814</td><td>-0.562664</td><td>-0.509843</td><td>-0.556847</td><td>-0.979074</td><td>-0.978556</td><td>0.018279</td><td>0.181652</td><td>0.51958</td><td>0.505505</td><td>-1.760926</td><td>-1.760984</td><td>null</td><td>null</td><td>null</td><td>null</td><td>null</td><td>null</td><td>null</td><td>null</td><td>null</td><td>null</td><td>null</td><td>null</td><td>null</td><td>null</td><td>null</td><td>null</td><td>null</td><td>3</td></tr><tr><td>158304003</td><td>49</td><td>-0.165622</td><td>-0.139563</td><td>1.018602</td><td>-0.12197</td><td>-0.043875</td><td>-0.113002</td><td>-0.061584</td><td>-0.156113</td><td>-0.162033</td><td>-0.049707</td><td>-0.158425</td><td>-0.028741</td><td>-0.035391</td><td>-0.042955</td><td>-0.013282</td><td>-0.036931</td><td>-0.165039</td><td>-0.167557</td><td>-0.16755</td><td>-1.373657</td><td>-1.37146</td><td>-0.139729</td><td>-0.14891</td><td>-0.080147</td><td>-0.155659</td><td>-0.010763</td><td>-0.012107</td><td>-0.13973</td><td>-0.148906</td><td>-0.080147</td><td>-0.155659</td><td>-0.010669</td><td>-0.012005</td><td>-0.024669</td><td>-0.031272</td><td>&hellip;</td><td>1.301281</td><td>1.203124</td><td>0.669709</td><td>-0.45333</td><td>1.053007</td><td>1.488113</td><td>1.487932</td><td>-0.216814</td><td>-0.562664</td><td>-0.509843</td><td>-0.556847</td><td>1.46133</td><td>1.461369</td><td>0.018279</td><td>0.181652</td><td>0.51958</td><td>0.505505</td><td>1.5197</td><td>1.521399</td><td>null</td><td>null</td><td>null</td><td>null</td><td>null</td><td>null</td><td>null</td><td>null</td><td>null</td><td>null</td><td>null</td><td>null</td><td>null</td><td>null</td><td>null</td><td>null</td><td>null</td><td>3</td></tr><tr><td>158303998</td><td>49</td><td>-0.16704</td><td>-0.139563</td><td>1.018602</td><td>-0.12197</td><td>-0.043875</td><td>-0.113002</td><td>-0.061584</td><td>-0.157564</td><td>-0.163463</td><td>-0.049707</td><td>-0.159874</td><td>-0.028741</td><td>-0.035391</td><td>-0.042955</td><td>-0.013282</td><td>-0.032103</td><td>-0.16684</td><td>-0.170022</td><td>-0.169229</td><td>0.887058</td><td>0.884557</td><td>-0.139729</td><td>-0.148911</td><td>-0.080147</td><td>-0.15566</td><td>-0.010763</td><td>-0.012107</td><td>-0.139731</td><td>-0.148906</td><td>-0.080147</td><td>-0.15566</td><td>-0.010669</td><td>-0.012005</td><td>-0.024669</td><td>-0.031272</td><td>&hellip;</td><td>-1.01623</td><td>1.203124</td><td>0.146997</td><td>-1.059868</td><td>0.749451</td><td>0.185597</td><td>0.185492</td><td>-0.193143</td><td>-0.593355</td><td>-0.554681</td><td>-0.582077</td><td>-0.979074</td><td>-0.978556</td><td>0.018279</td><td>-0.08749</td><td>-0.131155</td><td>-0.097524</td><td>-0.120613</td><td>-0.119792</td><td>null</td><td>null</td><td>null</td><td>null</td><td>null</td><td>null</td><td>null</td><td>null</td><td>null</td><td>null</td><td>null</td><td>null</td><td>null</td><td>null</td><td>null</td><td>null</td><td>null</td><td>3</td></tr><tr><td>158303966</td><td>49</td><td>-0.16704</td><td>-0.139563</td><td>1.018602</td><td>-0.12197</td><td>-0.043875</td><td>-0.113002</td><td>-0.061584</td><td>-0.157564</td><td>-0.163463</td><td>-0.049707</td><td>-0.159874</td><td>-0.028741</td><td>-0.035391</td><td>-0.042955</td><td>-0.013282</td><td>-0.032941</td><td>-0.16678</td><td>-0.169885</td><td>-0.169229</td><td>-1.373657</td><td>-1.37146</td><td>-0.139729</td><td>-0.148911</td><td>-0.080147</td><td>-0.15566</td><td>-0.010763</td><td>-0.012107</td><td>-0.139731</td><td>-0.148906</td><td>-0.080147</td><td>-0.15566</td><td>-0.010669</td><td>-0.012005</td><td>-0.024669</td><td>-0.031272</td><td>&hellip;</td><td>1.301281</td><td>1.203124</td><td>0.146997</td><td>-1.059868</td><td>0.749451</td><td>0.185597</td><td>0.185492</td><td>-0.122129</td><td>-0.458316</td><td>-0.412695</td><td>-0.424391</td><td>-0.979074</td><td>-0.978556</td><td>0.018279</td><td>-0.068266</td><td>-0.084674</td><td>-0.05445</td><td>-1.760926</td><td>-1.760984</td><td>null</td><td>null</td><td>null</td><td>null</td><td>null</td><td>null</td><td>null</td><td>null</td><td>null</td><td>null</td><td>null</td><td>null</td><td>null</td><td>null</td><td>null</td><td>null</td><td>null</td><td>3</td></tr><tr><td>161526077</td><td>49</td><td>-0.172212</td><td>-0.139573</td><td>1.018602</td><td>-0.12197</td><td>-0.043875</td><td>-0.113002</td><td>-0.061584</td><td>-0.162856</td><td>-0.168681</td><td>-0.049707</td><td>-0.16516</td><td>-0.028741</td><td>-0.035391</td><td>-0.042955</td><td>-0.013282</td><td>-0.05188</td><td>-0.170751</td><td>-0.1729</td><td>-0.175352</td><td>0.887058</td><td>0.884557</td><td>-0.139732</td><td>-0.148912</td><td>-0.080147</td><td>-0.155662</td><td>-0.010763</td><td>-0.012107</td><td>-0.139733</td><td>-0.148907</td><td>-0.080147</td><td>-0.155662</td><td>-0.010669</td><td>-0.012005</td><td>-0.024669</td><td>-0.031272</td><td>&hellip;</td><td>1.301281</td><td>1.746131</td><td>0.669709</td><td>-1.059868</td><td>1.356563</td><td>0.185597</td><td>0.185492</td><td>-0.027444</td><td>-0.562664</td><td>-0.569626</td><td>-0.506387</td><td>1.46133</td><td>1.461369</td><td>0.018279</td><td>0.143203</td><td>0.426618</td><td>0.419358</td><td>1.5197</td><td>1.521399</td><td>null</td><td>null</td><td>null</td><td>null</td><td>null</td><td>null</td><td>null</td><td>null</td><td>null</td><td>null</td><td>null</td><td>null</td><td>null</td><td>null</td><td>null</td><td>null</td><td>null</td><td>3</td></tr><tr><td>194103537</td><td>49</td><td>-0.172212</td><td>-0.139573</td><td>1.018602</td><td>-0.12197</td><td>-0.043875</td><td>-0.113002</td><td>-0.061584</td><td>-0.162856</td><td>-0.168681</td><td>-0.049707</td><td>-0.16516</td><td>-0.028741</td><td>-0.035391</td><td>-0.042955</td><td>-0.013282</td><td>-0.05188</td><td>-0.170751</td><td>-0.1729</td><td>-0.175352</td><td>0.887058</td><td>0.884557</td><td>-0.139732</td><td>-0.148912</td><td>-0.080147</td><td>-0.155662</td><td>-0.010763</td><td>-0.012107</td><td>-0.139733</td><td>-0.148907</td><td>-0.080147</td><td>-0.155662</td><td>-0.010669</td><td>-0.012005</td><td>-0.024669</td><td>-0.031272</td><td>&hellip;</td><td>1.301281</td><td>1.746131</td><td>0.669709</td><td>-1.059868</td><td>1.356563</td><td>0.185597</td><td>0.185492</td><td>-0.027444</td><td>0.603581</td><td>0.850234</td><td>0.692026</td><td>1.46133</td><td>1.461369</td><td>-0.098889</td><td>-0.08749</td><td>-0.084674</td><td>-0.140597</td><td>-1.760926</td><td>-1.760984</td><td>null</td><td>null</td><td>null</td><td>null</td><td>null</td><td>null</td><td>null</td><td>null</td><td>null</td><td>null</td><td>null</td><td>null</td><td>null</td><td>null</td><td>null</td><td>null</td><td>null</td><td>3</td></tr></tbody></table></div>"
            ]
          },
          "metadata": {},
          "execution_count": 6
        }
      ],
      "source": [
        "transaction_classes = pol.read_csv(\"elliptic_bitcoin_dataset/txs_classes.csv\")\n",
        "features_transaction = pol.read_csv(\"elliptic_bitcoin_dataset/txs_features.csv\")\n",
        "\n",
        "features_transaction = features_transaction.join(\n",
        "    transaction_classes, how=\"left\", left_on=\"txId\", right_on=\"txId\"\n",
        ")\n",
        "\n",
        "features_transaction"
      ]
    },
    {
      "cell_type": "markdown",
      "metadata": {
        "id": "90XUadARej9R"
      },
      "source": [
        "\n",
        "Each node in the dataset has 166 features (2 are the transactionID and class, so we don't count those); however, we can't explain them all due to sheer volume. One key feature is a time step (1–49 with approximately two-week intervals) (column_2), representing when a transaction was broadcast on the Bitcoin network. Each time step captures transactions occurring within a three-hour window. The first 94 features provide localized transaction data (inputs/outputs, fees, etc.). The remaining 72 features offer aggregated statistics about neighboring transactions."
      ]
    },
    {
      "cell_type": "code",
      "execution_count": null,
      "metadata": {
        "id": "BJwW8yEBej9R",
        "outputId": "a79feffe-6b65-4cd6-f66f-8bc1966e843b",
        "colab": {
          "base_uri": "https://localhost:8080/"
        }
      },
      "outputs": [
        {
          "output_type": "execute_result",
          "data": {
            "text/plain": [
              "tensor([[ 1.0000, -0.1696, -0.1847,  ...,  0.2670,  0.2670,  0.5340],\n",
              "        [ 1.0000, -0.1376, -0.1847,  ...,  2.8059,  2.8059,  5.6118],\n",
              "        [ 1.0000, -0.1701, -0.1847,  ...,  0.2283,  0.2283,  0.4565],\n",
              "        ...,\n",
              "        [49.0000, -0.1670, -0.1396,  ...,     nan,     nan,     nan],\n",
              "        [49.0000, -0.1722, -0.1396,  ...,     nan,     nan,     nan],\n",
              "        [49.0000, -0.1722, -0.1396,  ...,     nan,     nan,     nan]])"
            ]
          },
          "metadata": {},
          "execution_count": 7
        }
      ],
      "source": [
        "tensor_features_transaction = torch.tensor(\n",
        "    features_transaction.drop([\"txId\", \"Time Step\", \"class\"]).to_numpy(),\n",
        "    dtype=torch.float32,\n",
        ")\n",
        "\n",
        "tensor_features_transaction"
      ]
    },
    {
      "cell_type": "code",
      "execution_count": null,
      "metadata": {
        "id": "344frdodej9R",
        "outputId": "d5fd09e0-7ea8-44e7-bbb1-5ac9c2e35279",
        "colab": {
          "base_uri": "https://localhost:8080/"
        }
      },
      "outputs": [
        {
          "output_type": "execute_result",
          "data": {
            "text/plain": [
              "tensor([3, 3, 3,  ..., 3, 3, 3])"
            ]
          },
          "metadata": {},
          "execution_count": 8
        }
      ],
      "source": [
        "transaction_labels = torch.tensor(\n",
        "    features_transaction[\"class\"].to_numpy(), dtype=torch.float32\n",
        ").long()\n",
        "transaction_labels"
      ]
    },
    {
      "cell_type": "markdown",
      "metadata": {
        "id": "qMYz-Vj5ej9S"
      },
      "source": [
        "# Edges\n"
      ]
    },
    {
      "cell_type": "markdown",
      "metadata": {
        "id": "LD5EZZz9ej9S"
      },
      "source": [
        "Having defined the nodes in our graph structure, we now focus on processing the edges. We first load the edge lists."
      ]
    },
    {
      "cell_type": "code",
      "execution_count": null,
      "metadata": {
        "id": "9RrHNU_lej9S",
        "outputId": "1e62e199-102e-4af1-dffe-f1c3c7e7dab0",
        "colab": {
          "base_uri": "https://localhost:8080/"
        }
      },
      "outputs": [
        {
          "output_type": "stream",
          "name": "stdout",
          "text": [
            "Shape of edgelist_addr_addr: (2868964, 2)\n",
            "Shape of edgelist_addr_tx: (477117, 2)\n",
            "Shape of edgelist_tx_addr: (837124, 2)\n",
            "Shape of edgelist_tx_tx: (234355, 2)\n"
          ]
        }
      ],
      "source": [
        "edgelist_addr_addr = pol.read_csv(\"elliptic_bitcoin_dataset/AddrAddr_edgelist.csv\")\n",
        "edgelist_addr_tx = pol.read_csv(\"elliptic_bitcoin_dataset/AddrTx_edgelist.csv\")\n",
        "edgelist_tx_addr = pol.read_csv(\"elliptic_bitcoin_dataset/TxAddr_edgelist.csv\")\n",
        "edgelist_tx_tx = pol.read_csv(\"elliptic_bitcoin_dataset/txs_edgelist.csv\")\n",
        "\n",
        "print(\"Shape of edgelist_addr_addr:\", edgelist_addr_addr.shape)\n",
        "print(\"Shape of edgelist_addr_tx:\", edgelist_addr_tx.shape)\n",
        "print(\"Shape of edgelist_tx_addr:\", edgelist_tx_addr.shape)\n",
        "print(\"Shape of edgelist_tx_tx:\", edgelist_tx_tx.shape)\n"
      ]
    },
    {
      "cell_type": "markdown",
      "metadata": {
        "id": "tv-LdBo7ej9S"
      },
      "source": [
        "We're analyzing a Bitcoin transaction dataset to understand the relationships between wallets (addresses) and transactions. We define edge lists (edgelist_addr_addr, edgelist_addr_tx, etc.) loaded from CSV files to represent these connections. These edge lists capture various types of relationships, such as wallet-to-wallet connections, wallet-to-transaction connections, and transaction-to-transaction links. We'll prepare this data as tensors to analyze these relationships using graph neural network techniques."
      ]
    },
    {
      "cell_type": "markdown",
      "metadata": {
        "id": "1cSU1jAyej9S"
      },
      "source": [
        "First, we build several mapping dictionaries. These dictionaries define the relationships between entities in our graph (such as transactions and wallet addresses) and specify how we want to represent them numerically. Each dictionary links original categorical labels to their unique numerical replacements."
      ]
    },
    {
      "cell_type": "code",
      "execution_count": null,
      "metadata": {
        "id": "oeYUWK8Iej9S"
      },
      "outputs": [],
      "source": [
        "# Map nodes to indices\n",
        "features_transaction = features_transaction.with_columns(\n",
        "    mapped_id=pol.arange(0, features_transaction.shape[0])\n",
        ")\n",
        "\n",
        "features_wallets = features_wallets.with_columns(\n",
        "    mapped_id=pol.arange(0, features_wallets.shape[0])\n",
        ")\n",
        "\n",
        "wallets_mapping = dict(\n",
        "    zip(features_wallets[\"address\"], features_wallets[\"mapped_id\"])\n",
        ")\n",
        "transaction_mapping = dict(\n",
        "    zip(features_transaction[\"txId\"], features_transaction[\"mapped_id\"])\n",
        ")\n"
      ]
    },
    {
      "cell_type": "markdown",
      "metadata": {
        "id": "UGNF39lfej9S"
      },
      "source": [
        "Next, we use the prepare_edge_index function repeatedly on different edge lists. For each edge list, the function iterates through it and substitutes the existing categorical labels with their corresponding numbers from the relevant mapping dictionary. Finally, it transforms the processed data into a PyTorch tensor, ensuring it's in the correct format for our graph neural network model."
      ]
    },
    {
      "cell_type": "code",
      "execution_count": null,
      "metadata": {
        "id": "PzqIN9XYej9T",
        "outputId": "f4caae03-4b2f-4621-ce9b-0d16861ab19c",
        "colab": {
          "base_uri": "https://localhost:8080/"
        }
      },
      "outputs": [
        {
          "output_type": "stream",
          "name": "stderr",
          "text": [
            "<ipython-input-11-5c8edcbdc495>:6: DeprecationWarning: `apply` is deprecated. It has been renamed to `map_elements`.\n",
            "  edgelist[k].apply(lambda x: v.get(x, x)),\n",
            "<ipython-input-11-5c8edcbdc495>:4: DeprecationWarning: `replace` is deprecated. DataFrame.replace is deprecated and will be removed in a future version. Please use\n",
            "    df = df.with_columns(new_column.alias(column_name))\n",
            "instead.\n",
            "  edgelist = edgelist.replace(\n"
          ]
        },
        {
          "output_type": "stream",
          "name": "stdout",
          "text": [
            "Shape of addr_tx_edge_index: torch.Size([2, 477117])\n",
            "Shape of tx_addr_edge_index: torch.Size([2, 837124])\n",
            "Shape of addr_addr_edge_index: torch.Size([2, 2868964])\n",
            "Shape of tx_tx_edge_index: torch.Size([2, 234355])\n"
          ]
        }
      ],
      "source": [
        "import numpy as np\n",
        "def prepare_edge_index(edgelist, mapping_dict):\n",
        "    for k, v in mapping_dict.items():\n",
        "        edgelist = edgelist.replace(\n",
        "            k,\n",
        "            edgelist[k].apply(lambda x: v.get(x, x)),\n",
        "        )\n",
        "\n",
        "    # Preparing edge_index for PyTorch\n",
        "    edgelist = np.array(edgelist.to_numpy()).T\n",
        "    return torch.tensor(edgelist, dtype=torch.long).contiguous()\n",
        "\n",
        "tx_tx_dict = {\"txId1\": transaction_mapping, \"txId2\": transaction_mapping}\n",
        "addr_addr_dict = {\n",
        "    \"input_address\": wallets_mapping,\n",
        "    \"output_address\": wallets_mapping,\n",
        "}\n",
        "addr_tx_dict = {\"input_address\": wallets_mapping, \"txId\": transaction_mapping}\n",
        "tx_addr_dict = {\"txId\": transaction_mapping, \"output_address\": wallets_mapping}\n",
        "\n",
        "addr_tx_edge_index = prepare_edge_index(edgelist_addr_tx, addr_tx_dict)\n",
        "tx_addr_edge_index = prepare_edge_index(edgelist_tx_addr, tx_addr_dict)\n",
        "addr_addr_edge_index = prepare_edge_index(\n",
        "    edgelist_addr_addr, addr_addr_dict\n",
        ")\n",
        "tx_tx_edge_index = prepare_edge_index(edgelist_tx_tx, tx_tx_dict)\n",
        "\n",
        "print(\"Shape of addr_tx_edge_index:\", addr_tx_edge_index.shape)\n",
        "print(\"Shape of tx_addr_edge_index:\", tx_addr_edge_index.shape)\n",
        "print(\"Shape of addr_addr_edge_index:\", addr_addr_edge_index.shape)\n",
        "print(\"Shape of tx_tx_edge_index:\", tx_tx_edge_index.shape)\n"
      ]
    },
    {
      "cell_type": "markdown",
      "metadata": {
        "id": "guTNABITej9T"
      },
      "source": [
        "# Masks\n"
      ]
    },
    {
      "cell_type": "markdown",
      "metadata": {
        "id": "TPOzf4rwej9T"
      },
      "source": [
        "Creating masks for datasets is crucial because it facilitates the division of our Bitcoin transaction data into training, validation, and testing sets. This division is essential for building graph neural network models that generalize well to unseen data. The training mask allows the model to learn from a representative subset of transactions. In contrast, the validation mask helps us prevent overfitting by monitoring model performance on data it hasn't trained on. Finally, the testing mask provides an independent set of transactions to evaluate our model's final performance. It gives us a realistic idea of its ability to make accurate predictions in real-world scenarios. In the following sections, we create a train, validation, and test split for our dataset."
      ]
    },
    {
      "cell_type": "code",
      "execution_count": null,
      "metadata": {
        "id": "CpgJjlmjej9T",
        "outputId": "f8dd82ca-1bb8-43a1-e56a-e50ff2d2ab6c",
        "colab": {
          "base_uri": "https://localhost:8080/"
        }
      },
      "outputs": [
        {
          "output_type": "stream",
          "name": "stdout",
          "text": [
            "Shape of wallet_train_mask: torch.Size([1268260])\n",
            "Shape of wallet_val_mask: torch.Size([1268260])\n",
            "Shape of wallet_test_mask: torch.Size([1268260])\n",
            "Sum of wallet_train_mask as a fraction of total records: 0.8\n",
            "Sum of wallet_val_mask as a fraction of total records: 0.1\n",
            "Sum of wallet_test_mask as a fraction of total records: 0.1\n"
          ]
        }
      ],
      "source": [
        "def split_data(num_data, splits=[0.8, 0.1]):\n",
        "    assert len(splits) == 2, \"The length of splits should be 2\"\n",
        "    assert sum(splits) < 1, \"The sum of splits should be less than 1\"\n",
        "\n",
        "    # Generate numbers\n",
        "    num_train = int(splits[0] * num_data)\n",
        "    num_val = int(splits[1] * num_data)\n",
        "    num_test = num_data - num_train - num_val\n",
        "\n",
        "    # Generate ranges\n",
        "    train_index = torch.arange(num_train, dtype=torch.long)\n",
        "    val_index = torch.arange(num_train, num_train + num_val, dtype=torch.long)\n",
        "    test_index = torch.arange(\n",
        "        num_train + num_val, num_train + num_val + num_test, dtype=torch.long\n",
        "    )\n",
        "\n",
        "    # Create masks\n",
        "    train_mask = torch.zeros(num_data, dtype=torch.bool)\n",
        "    val_mask = torch.zeros(num_data, dtype=torch.bool)\n",
        "    test_mask = torch.zeros(num_data, dtype=torch.bool)\n",
        "    train_mask[train_index] = True\n",
        "    val_mask[val_index] = True\n",
        "    test_mask[test_index] = True\n",
        "\n",
        "    return train_mask, val_mask, test_mask\n",
        "\n",
        "wallet_train_mask, wallet_val_mask, wallet_test_mask = split_data(features_wallets.shape[0])\n",
        "print(\"Shape of wallet_train_mask:\", wallet_train_mask.shape)\n",
        "print(\"Shape of wallet_val_mask:\", wallet_val_mask.shape)\n",
        "print(\"Shape of wallet_test_mask:\", wallet_test_mask.shape)\n",
        "\n",
        "\n",
        "total_records = features_wallets.shape[0]\n",
        "print(\"Sum of wallet_train_mask as a fraction of total records:\", wallet_train_mask.sum().item() / total_records)\n",
        "print(\"Sum of wallet_val_mask as a fraction of total records:\", wallet_val_mask.sum().item() / total_records)\n",
        "print(\"Sum of wallet_test_mask as a fraction of total records:\", wallet_test_mask.sum().item() / total_records)\n"
      ]
    },
    {
      "cell_type": "code",
      "execution_count": null,
      "metadata": {
        "id": "zrJVgcfFej9U",
        "outputId": "c32febee-b8f0-4e56-8149-7a43186fff6b",
        "colab": {
          "base_uri": "https://localhost:8080/"
        }
      },
      "outputs": [
        {
          "output_type": "stream",
          "name": "stdout",
          "text": [
            "Shape of transaction_train_mask: torch.Size([203769])\n",
            "Shape of transaction_val_mask: torch.Size([203769])\n",
            "Shape of transaction_test_mask: torch.Size([203769])\n",
            "Sum of transaction_train_mask as a fraction of total records: 0.7999990184964347\n",
            "Sum of transaction_val_mask as a fraction of total records: 0.0999955832339561\n",
            "Sum of transaction_test_mask as a fraction of total records: 0.10000539826960922\n"
          ]
        }
      ],
      "source": [
        "# Mask data\n",
        "transaction_train_mask, transaction_val_mask, transaction_test_mask = split_data(features_transaction.shape[0])\n",
        "\n",
        "print(\"Shape of transaction_train_mask:\", transaction_train_mask.shape)\n",
        "print(\"Shape of transaction_val_mask:\", transaction_val_mask.shape)\n",
        "print(\"Shape of transaction_test_mask:\", transaction_test_mask.shape)\n",
        "\n",
        "total_records = features_transaction.shape[0]\n",
        "print(\"Sum of transaction_train_mask as a fraction of total records:\", transaction_train_mask.sum().item() / total_records)\n",
        "print(\"Sum of transaction_val_mask as a fraction of total records:\", transaction_val_mask.sum().item() / total_records)\n",
        "print(\"Sum of transaction_test_mask as a fraction of total records:\", transaction_test_mask.sum().item() / total_records)\n",
        "\n"
      ]
    },
    {
      "cell_type": "markdown",
      "metadata": {
        "id": "ebI1tMW0ej9U"
      },
      "source": [
        "The split_data function splits a dataset into training, validation, and testing subsets. It takes two parameters: num_data, which represents the total number of data points in the dataset and splits, an optional parameter specifying the proportions in which the dataset should be split. The function calculates the number of data points for each subset based on the proportions specified in splits. It uses these numbers to generate ranges for the training, validation, and testing subsets indices. Then, the function creates boolean masks for each subset. These masks are used to identify which data points belong to each subset. The masks are initialized as arrays of zeros with a length equal to num_data, and then specific indices are set to True to indicate membership in the corresponding subset. Finally, the function returns the three masks: train_mask, val_mask, and test_mask, representing the training, validation, and testing subsets. This function is useful when you want to split a dataset into different subsets for tasks such as training a machine learning model, evaluating its performance on a validation set, and testing its generalization on a separate testing set."
      ]
    },
    {
      "cell_type": "markdown",
      "metadata": {
        "id": "mI6chuR1ej9U"
      },
      "source": [
        "# HeteroData\n",
        "HeteroData in PyTorch Geometric is a data structure that represents graphs with multiple node and edge types. This is important for our Bitcoin graph network analysis because it allows us to model the complex relationships inherent in Bitcoin transactions: we can have different node types (e.g., wallets and transactions), each with their own distinct sets of features, and we can represent different kinds of relationships between them (e.g., a wallet sending Bitcoin to another wallet, a wallet being involved in a transaction). HeteroData enables us to capture this richness, making our graph neural network models more expressive and potentially leading to better insights into Bitcoin transaction patterns."
      ]
    },
    {
      "cell_type": "markdown",
      "metadata": {
        "id": "MiimomqCej9U"
      },
      "source": [
        "We construct a heterogeneous graph representation of our Bitcoin dataset using PyTorch Geometric's HeteroData structure. We define two distinct node types: \"wallets\" and \"transactions,\" and associate features and labels (potentially related to illicit activities) with each type. We establish different edge types to represent connections between transactions, between transactions and addresses, and between addresses themselves. Finally, we include training, validation, and testing masks on our nodes to prepare the graph for training and evaluating a graph neural network model to uncover insights within the Bitcoin network."
      ]
    },
    {
      "cell_type": "code",
      "source": [
        "!pip install torch_geometric"
      ],
      "metadata": {
        "colab": {
          "base_uri": "https://localhost:8080/"
        },
        "id": "GURu1JkhLe90",
        "outputId": "8220e2f3-e610-480f-e6a2-68cbeab0d56f"
      },
      "execution_count": null,
      "outputs": [
        {
          "output_type": "stream",
          "name": "stdout",
          "text": [
            "Requirement already satisfied: torch_geometric in /usr/local/lib/python3.10/dist-packages (2.5.2)\n",
            "Requirement already satisfied: tqdm in /usr/local/lib/python3.10/dist-packages (from torch_geometric) (4.66.2)\n",
            "Requirement already satisfied: numpy in /usr/local/lib/python3.10/dist-packages (from torch_geometric) (1.25.2)\n",
            "Requirement already satisfied: scipy in /usr/local/lib/python3.10/dist-packages (from torch_geometric) (1.11.4)\n",
            "Requirement already satisfied: fsspec in /usr/local/lib/python3.10/dist-packages (from torch_geometric) (2023.6.0)\n",
            "Requirement already satisfied: jinja2 in /usr/local/lib/python3.10/dist-packages (from torch_geometric) (3.1.3)\n",
            "Requirement already satisfied: aiohttp in /usr/local/lib/python3.10/dist-packages (from torch_geometric) (3.9.3)\n",
            "Requirement already satisfied: requests in /usr/local/lib/python3.10/dist-packages (from torch_geometric) (2.31.0)\n",
            "Requirement already satisfied: pyparsing in /usr/local/lib/python3.10/dist-packages (from torch_geometric) (3.1.2)\n",
            "Requirement already satisfied: scikit-learn in /usr/local/lib/python3.10/dist-packages (from torch_geometric) (1.2.2)\n",
            "Requirement already satisfied: psutil>=5.8.0 in /usr/local/lib/python3.10/dist-packages (from torch_geometric) (5.9.5)\n",
            "Requirement already satisfied: aiosignal>=1.1.2 in /usr/local/lib/python3.10/dist-packages (from aiohttp->torch_geometric) (1.3.1)\n",
            "Requirement already satisfied: attrs>=17.3.0 in /usr/local/lib/python3.10/dist-packages (from aiohttp->torch_geometric) (23.2.0)\n",
            "Requirement already satisfied: frozenlist>=1.1.1 in /usr/local/lib/python3.10/dist-packages (from aiohttp->torch_geometric) (1.4.1)\n",
            "Requirement already satisfied: multidict<7.0,>=4.5 in /usr/local/lib/python3.10/dist-packages (from aiohttp->torch_geometric) (6.0.5)\n",
            "Requirement already satisfied: yarl<2.0,>=1.0 in /usr/local/lib/python3.10/dist-packages (from aiohttp->torch_geometric) (1.9.4)\n",
            "Requirement already satisfied: async-timeout<5.0,>=4.0 in /usr/local/lib/python3.10/dist-packages (from aiohttp->torch_geometric) (4.0.3)\n",
            "Requirement already satisfied: MarkupSafe>=2.0 in /usr/local/lib/python3.10/dist-packages (from jinja2->torch_geometric) (2.1.5)\n",
            "Requirement already satisfied: charset-normalizer<4,>=2 in /usr/local/lib/python3.10/dist-packages (from requests->torch_geometric) (3.3.2)\n",
            "Requirement already satisfied: idna<4,>=2.5 in /usr/local/lib/python3.10/dist-packages (from requests->torch_geometric) (3.6)\n",
            "Requirement already satisfied: urllib3<3,>=1.21.1 in /usr/local/lib/python3.10/dist-packages (from requests->torch_geometric) (2.0.7)\n",
            "Requirement already satisfied: certifi>=2017.4.17 in /usr/local/lib/python3.10/dist-packages (from requests->torch_geometric) (2024.2.2)\n",
            "Requirement already satisfied: joblib>=1.1.1 in /usr/local/lib/python3.10/dist-packages (from scikit-learn->torch_geometric) (1.3.2)\n",
            "Requirement already satisfied: threadpoolctl>=2.0.0 in /usr/local/lib/python3.10/dist-packages (from scikit-learn->torch_geometric) (3.4.0)\n"
          ]
        }
      ]
    },
    {
      "cell_type": "code",
      "execution_count": null,
      "metadata": {
        "id": "zOqdckd_ej9U",
        "outputId": "ef52df44-fb6d-4edb-8645-12ea2ebf7da6",
        "colab": {
          "base_uri": "https://localhost:8080/"
        }
      },
      "outputs": [
        {
          "output_type": "stream",
          "name": "stdout",
          "text": [
            "HeteroData(\n",
            "  wallets={\n",
            "    x=[1268260, 55],\n",
            "    y=[1268260],\n",
            "    train_mask=[1268260],\n",
            "    val_mask=[1268260],\n",
            "    test_mask=[1268260],\n",
            "  },\n",
            "  transactions={\n",
            "    x=[203769, 183],\n",
            "    y=[203769],\n",
            "    train_mask=[203769],\n",
            "    val_mask=[203769],\n",
            "    test_mask=[203769],\n",
            "  },\n",
            "  (transaction, to, transaction)={ edge_index=[2, 234355] },\n",
            "  (transaction, to, address)={ edge_index=[2, 837124] },\n",
            "  (address, to, transaction)={ edge_index=[2, 477117] },\n",
            "  (address, to, address)={ edge_index=[2, 2868964] }\n",
            ")\n"
          ]
        }
      ],
      "source": [
        "from torch_geometric.data import HeteroData\n",
        "\n",
        "df = HeteroData(\n",
        "    wallets={\n",
        "        \"x\": tensor_features_wallets,\n",
        "        \"y\": wallet_labels,\n",
        "        \"train_mask\": wallet_train_mask,\n",
        "        \"val_mask\": wallet_val_mask,\n",
        "        \"test_mask\": wallet_test_mask,\n",
        "    },\n",
        "    transactions={\n",
        "        \"x\": tensor_features_transaction,\n",
        "        \"y\": transaction_labels,\n",
        "        \"train_mask\": transaction_train_mask,\n",
        "        \"val_mask\": transaction_val_mask,\n",
        "        \"test_mask\": transaction_test_mask,\n",
        "    },\n",
        ")\n",
        "\n",
        "df[\"transaction\", \"transaction\"].edge_index = tx_tx_edge_index\n",
        "df[\"transaction\", \"address\"].edge_index = tx_addr_edge_index\n",
        "df[\"address\", \"transaction\"].edge_index = addr_tx_edge_index\n",
        "df[\"address\", \"address\"].edge_index = addr_addr_edge_index\n",
        "\n",
        "print(df)"
      ]
    },
    {
      "cell_type": "markdown",
      "metadata": {
        "id": "GN8DNuX7ej9U"
      },
      "source": [
        "The print output confirms that we successfully created our dataset, achieving the intended goal. It shows two node types, \"wallets\" (1,268,260 entries with 55 features each) and \"transactions\" (203,769 entries with 165 features each). Notably, these nodes include labels (potentially indicating illicit activities) and equally sized training, validation, and testing masks - essential for controlled model training. Finally, there are four different edge types representing diverse relationships: transaction-to-transaction, transaction-to-address, address-to-transaction, and address-to-address, encompassing the complexity of the Bitcoin network. This output indicates a well-constructed heterogeneous graph dataset prepped for training and evaluating our graph neural network model."
      ]
    }
  ],
  "metadata": {
    "kernelspec": {
      "display_name": "Python 3",
      "language": "python",
      "name": "python3"
    },
    "language_info": {
      "codemirror_mode": {
        "name": "ipython",
        "version": 3
      },
      "file_extension": ".py",
      "mimetype": "text/x-python",
      "name": "python",
      "nbconvert_exporter": "python",
      "pygments_lexer": "ipython3",
      "version": "3.10.13"
    },
    "colab": {
      "provenance": [],
      "include_colab_link": true
    }
  },
  "nbformat": 4,
  "nbformat_minor": 0
}